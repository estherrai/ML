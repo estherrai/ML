{
 "cells": [
  {
   "cell_type": "code",
   "execution_count": 1,
   "id": "b20a68b2-614a-410b-bae1-a10dbec64cdd",
   "metadata": {},
   "outputs": [
    {
     "ename": "SyntaxError",
     "evalue": "invalid syntax (2831607023.py, line 2)",
     "output_type": "error",
     "traceback": [
      "\u001b[1;36m  Cell \u001b[1;32mIn[1], line 2\u001b[1;36m\u001b[0m\n\u001b[1;33m    pip install numpy\u001b[0m\n\u001b[1;37m        ^\u001b[0m\n\u001b[1;31mSyntaxError\u001b[0m\u001b[1;31m:\u001b[0m invalid syntax\n"
     ]
    }
   ],
   "source": [
    "#NumPy aka Numerical Python\n",
    "pip install numpy"
   ]
  },
  {
   "cell_type": "code",
   "execution_count": 2,
   "id": "0d7b6ab2-f110-42f7-9356-d6c31cf4ac5a",
   "metadata": {},
   "outputs": [
    {
     "name": "stdout",
     "output_type": "stream",
     "text": [
      "^C\n",
      "Note: you may need to restart the kernel to use updated packages.\n",
      "Defaulting to user installation because normal site-packages is not writeable\n",
      "Requirement already satisfied: numPy in d:\\anaconda\\lib\\site-packages (1.26.4)\n"
     ]
    }
   ],
   "source": [
    "pip install numPy"
   ]
  },
  {
   "cell_type": "code",
   "execution_count": 1,
   "id": "38d7a3f8-f972-4ee4-a0d5-a1ae92533967",
   "metadata": {},
   "outputs": [
    {
     "name": "stdout",
     "output_type": "stream",
     "text": [
      "Defaulting to user installation because normal site-packages is not writeable\n",
      "Requirement already satisfied: numpy in d:\\anaconda\\lib\\site-packages (1.26.4)\n",
      "Note: you may need to restart the kernel to use updated packages.\n"
     ]
    }
   ],
   "source": [
    "pip install numpy"
   ]
  },
  {
   "cell_type": "code",
   "execution_count": 3,
   "id": "c9de0b1c-e459-4cda-9c95-6a6135a8727f",
   "metadata": {},
   "outputs": [
    {
     "name": "stdout",
     "output_type": "stream",
     "text": [
      "Element in array: [ 5 10 15 20 25]\n"
     ]
    }
   ],
   "source": [
    "#Creating numPy Array\n",
    "import numpy as np\n",
    "\n",
    "array = np.array([5, 10, 15, 20, 25])\n",
    "print(\"Element in array:\", array)\n"
   ]
  },
  {
   "cell_type": "code",
   "execution_count": 4,
   "id": "bebd33c9-b9b4-4aa1-b135-9e71b44937e5",
   "metadata": {},
   "outputs": [
    {
     "name": "stdout",
     "output_type": "stream",
     "text": [
      "average of above array is 15.0\n"
     ]
    }
   ],
   "source": [
    "#Array Operating: Let's find average of above array elements\n",
    "\n",
    "average = np.mean(array)\n",
    "print(\"average of above array is\", average)"
   ]
  },
  {
   "cell_type": "code",
   "execution_count": 11,
   "id": "dea02a1d-b8f6-4267-ba07-4b60f4aa310f",
   "metadata": {},
   "outputs": [
    {
     "name": "stdout",
     "output_type": "stream",
     "text": [
      "Height of 2022D First benchers:\n",
      " [[100 110 111]\n",
      " [110 105 125]\n",
      " [120 125 130]]\n"
     ]
    }
   ],
   "source": [
    "#Multi dimensional array\n",
    "\n",
    "height_cm = np.array([[100, 110, 111], [110, 105, 125], [120, 125, 130]])\n",
    "print(\"Height of 2022D First benchers:\\n\", height_cm)"
   ]
  },
  {
   "cell_type": "code",
   "execution_count": 12,
   "id": "63a63107-41e2-44ba-8a7f-bec6c8ba6e79",
   "metadata": {},
   "outputs": [
    {
     "name": "stdout",
     "output_type": "stream",
     "text": [
      "First bench students heights: [100 110 111]\n",
      "Bata height is 125\n",
      "last bench students heights are [[100 110 111]\n",
      " [110 105 125]]\n"
     ]
    }
   ],
   "source": [
    "#Array indexing and slicing\n",
    "\n",
    "first_bench_student_height = height_cm[0]\n",
    "print(\"First bench students heights:\", first_bench_student_height)\n",
    "\n",
    "bata_height = height_cm [1] [2]\n",
    "print(\"Bata height is\", bata_height)\n",
    "\n",
    "last_bench_height = height_cm[:-1]\n",
    "print(\"last bench students heights are\", last_bench_height)"
   ]
  },
  {
   "cell_type": "code",
   "execution_count": 16,
   "id": "2239c973-fb0d-4ba0-ac82-fc2edb4960eb",
   "metadata": {},
   "outputs": [
    {
     "name": "stdout",
     "output_type": "stream",
     "text": [
      "Temperature in F is \n",
      " [[68.  77.  84.2]\n",
      " [66.2 73.4 71.6]\n",
      " [64.4 68.  98.6]]\n",
      "\n",
      "Temperature in Kelvin is\n",
      " [[293.15 298.15 302.15]\n",
      " [292.15 296.15 295.15]\n",
      " [291.15 293.15 310.15]]\n"
     ]
    }
   ],
   "source": [
    "#Converting the temperature from C to F and C to K\n",
    "\n",
    "temperature = np.array([[20, 25, 29], [19, 23, 22], [18, 20, 37]])\n",
    "f = (temperature * 9/5) + 32\n",
    "print(\"Temperature in F is \\n\", f)\n",
    "\n",
    "k = (temperature + 273.15)\n",
    "print(\"\\nTemperature in Kelvin is\\n\", k)"
   ]
  },
  {
   "cell_type": "code",
   "execution_count": 20,
   "id": "19fcdf30-8517-4c4d-9dc1-61a3ef657fb1",
   "metadata": {},
   "outputs": [
    {
     "name": "stdout",
     "output_type": "stream",
     "text": [
      "total revenue:\n",
      " [[ 13000  80000]\n",
      " [ 72500 350000]]\n"
     ]
    }
   ],
   "source": [
    "#Linear Algebra Operation \n",
    "\n",
    "sales = np.array([[500, 100, 200], [750, 1000, 1500]])\n",
    "quantity = np.array([[10, 20, 30], [100, 200, 50]]) \n",
    "\n",
    "revenue = np.dot(sales, quantity.T)\n",
    "print(\"total revenue:\\n\", revenue)"
   ]
  },
  {
   "cell_type": "code",
   "execution_count": 26,
   "id": "070b658b-f3e4-44ee-bd45-190ebf785b2c",
   "metadata": {},
   "outputs": [
    {
     "name": "stdout",
     "output_type": "stream",
     "text": [
      "zeros matrix 3*3 is:\n",
      " [[0 0 0]\n",
      " [0 0 0]\n",
      " [0 0 0]]\n",
      "ones matrix 3*3 is:\n",
      " [[1 1 1]\n",
      " [1 1 1]\n",
      " [1 1 1]]\n",
      "\n",
      "Eye matrix 5*5 is:\n",
      " [[1 0 0 0 0]\n",
      " [0 1 0 0 0]\n",
      " [0 0 1 0 0]\n",
      " [0 0 0 1 0]\n",
      " [0 0 0 0 1]]\n"
     ]
    }
   ],
   "source": [
    "#zeros and ones (matrix)\n",
    "\n",
    "print(\"zeros matrix 3*3 is:\\n\", np.zeros((3,3), dtype = int))\n",
    "print(\"ones matrix 3*3 is:\\n\", np.ones((3,3), dtype = int))\n",
    "print(\"\\nEye matrix 5*5 is:\\n\", np.eye(5, dtype = int))"
   ]
  },
  {
   "cell_type": "code",
   "execution_count": 28,
   "id": "a38d61bc-2d9e-4054-a7c8-227dd1847be4",
   "metadata": {},
   "outputs": [
    {
     "name": "stdout",
     "output_type": "stream",
     "text": [
      "\n",
      "1D Array_1D [0 1 2 3 4 5 6 7 8 9]\n",
      "\n",
      " 2D Array:\n",
      " [[1 2 3]\n",
      " [4 5 6]\n",
      " [7 8 9]]\n"
     ]
    }
   ],
   "source": [
    "#create a 1D NumPy array values ranging from 0 to 9\n",
    "\n",
    "array_1D = np.arange(10)\n",
    "print(\"\\n1D Array_1D\", array_1D)\n",
    "\n",
    "#create a 2D NumPY array with the shape (3,3) containing the above value 1 to 10\n",
    "array_2D = np.arange(1,10).reshape(3,3)\n",
    "print(\"\\n 2D Array:\\n\", array_2D)"
   ]
  },
  {
   "cell_type": "code",
   "execution_count": 29,
   "id": "4be36dc7-de71-44c1-acf6-3757b4ae8b86",
   "metadata": {},
   "outputs": [
    {
     "name": "stdout",
     "output_type": "stream",
     "text": [
      "[5 7 9] [3 3 3] [ 4 10 18] [4.  2.5 2. ]\n"
     ]
    }
   ],
   "source": [
    "#perform element-wise addition, subtraction, multiplication, and division on 1D Array [1, 2, 3] and [4, 5, 6]\n",
    "\n",
    "array1 = np.array([1,2,3])\n",
    "array2 = np.array([4,5,6])\n",
    "\n",
    "addition = array1 + array2\n",
    "subtraction = array2 - array1\n",
    "multiplication = array1 * array2\n",
    "division = array2 / array1\n",
    "\n",
    "print(addition, subtraction, multiplication, division)   "
   ]
  },
  {
   "cell_type": "code",
   "execution_count": 1,
   "id": "d85a724c-8cfa-492f-a17e-5ea642acad44",
   "metadata": {},
   "outputs": [
    {
     "name": "stdout",
     "output_type": "stream",
     "text": [
      "\n",
      "Mean: 41.666666666666664\n",
      "\n",
      "Median: 35.0\n",
      "\n",
      "Std_Deviation: 29.1070819942883\n",
      "\n",
      "Variance: 847.2222222222222\n"
     ]
    }
   ],
   "source": [
    "#May-10-Monday\n",
    "#Calculate the mean, median, standard deviation, and variance of 1D array\n",
    "\n",
    "import numpy as np\n",
    "\n",
    "array = np.array([10, 20, 30, 40, 50, 100])\n",
    "mean = np.mean(array)\n",
    "median = np.median(array)\n",
    "std_dev = np.std(array)\n",
    "variance = np.var(array)#\n",
    "print(\"\\nMean:\", mean)\n",
    "print(\"\\nMedian:\", median)\n",
    "print(\"\\nStd_Deviation:\", std_dev)\n",
    "print(\"\\nVariance:\", variance)"
   ]
  },
  {
   "cell_type": "code",
   "execution_count": 4,
   "id": "7d54d873-fc92-4aeb-abfa-19d8f2cea96f",
   "metadata": {},
   "outputs": [
    {
     "name": "stdout",
     "output_type": "stream",
     "text": [
      "An array with elements that are greater than 70 is:\n",
      " [ 90 150 200]\n"
     ]
    }
   ],
   "source": [
    "#logical Operation (and, or, etc.)\n",
    "#Given array [20, 50, 70, 90, 150, 200]\n",
    "#Return an array with elements that are greater than 70\n",
    "\n",
    "array = np.array([20, 50, 70, 90, 150, 200])\n",
    "result = array[array > 70]\n",
    "print(\"An array with elements that are greater than 70 is:\\n\", result)\n"
   ]
  },
  {
   "cell_type": "code",
   "execution_count": 5,
   "id": "6c2a12e7-4309-4c81-8e41-ef095e3eacd4",
   "metadata": {},
   "outputs": [
    {
     "name": "stdout",
     "output_type": "stream",
     "text": [
      "3x3 matrix is:\n",
      " [[0.79028416 0.68537638 0.8554098 ]\n",
      " [0.80594005 0.58505483 0.89892371]\n",
      " [0.18527486 0.91930622 0.61465187]]\n"
     ]
    }
   ],
   "source": [
    "#Create 3x3 matrix with random values between 0 and 1\n",
    "\n",
    "random_matrix = np.random.random((3,3))\n",
    "print(\"3x3 matrix is:\\n\", random_matrix)"
   ]
  },
  {
   "cell_type": "code",
   "execution_count": 13,
   "id": "07f6682e-c8ed-4be5-b76b-0e856df971e3",
   "metadata": {},
   "outputs": [
    {
     "name": "stdout",
     "output_type": "stream",
     "text": [
      "[[65 62 55]\n",
      " [61 87 59]\n",
      " [77 57 99]]\n",
      "\n",
      "Let's multiply given matrix by sclar value of 10:\n",
      "\n",
      "[[650 620 550]\n",
      " [610 870 590]\n",
      " [770 570 990]]\n"
     ]
    }
   ],
   "source": [
    "#Create an array of 10 random integers between 50 and 100\n",
    "\n",
    "random_int_matrix = np.random.randint(50, 100, 9).reshape(3,3)\n",
    "print(random_int_matrix)\n",
    "\n",
    "\n",
    "print(\"\\nLet's multiply given matrix by sclar value of 10:\\n\") #multiplying the matrix by 10\n",
    "result = random_int_matrix * 10\n",
    "print(result)"
   ]
  },
  {
   "cell_type": "code",
   "execution_count": 16,
   "id": "208cb737-6105-4367-81ee-0d3a63ddd487",
   "metadata": {},
   "outputs": [
    {
     "name": "stdout",
     "output_type": "stream",
     "text": [
      "[10. 20. nan 50. 70. nan]\n",
      "Mean: 37.5\n"
     ]
    }
   ],
   "source": [
    "#Create an array with some missing values (NaNs) and calculate the mean, ignoring NaNs\n",
    "\n",
    "array_with_missing_values = np.array([10, 20, np.nan, 50, 70, np.nan])\n",
    "print(array_with_missing_values)\n",
    "mean = np.nanmean(array_with_missing_values)\n",
    "print(\"Mean:\", mean)"
   ]
  },
  {
   "cell_type": "code",
   "execution_count": 17,
   "id": "22556de2-25ce-4a31-9953-74c679d1989e",
   "metadata": {},
   "outputs": [
    {
     "name": "stdout",
     "output_type": "stream",
     "text": [
      "[ 0.0000000e+00  1.0000000e+00  1.2246468e-16 -1.0000000e+00\n",
      " -2.4492936e-16]\n"
     ]
    }
   ],
   "source": [
    "#Apply the sine function to each element in the array\n",
    "#[0, pi/2, pi, 3*pi/2, 2*pi]\n",
    "\n",
    "sine_array = [0, np.pi/2, np.pi, 3*np.pi/2, 2*np.pi]\n",
    "sine_values = np.sin(sine_array)\n",
    "print(sine_values)"
   ]
  },
  {
   "cell_type": "code",
   "execution_count": 18,
   "id": "ea56e075-77d4-4d9e-8047-3a74ad034fc5",
   "metadata": {},
   "outputs": [
    {
     "name": "stdout",
     "output_type": "stream",
     "text": [
      "[ 1  3  5  6  9 10 19 34 88]\n"
     ]
    }
   ],
   "source": [
    "#Find the unique elements in an array [1,1,10,3,3,5,5,6,6,88,9,19,34]\n",
    "\n",
    "repeated_values = np.array([1,1,10,3,3,5,5,6,6,88,9,19,34])\n",
    "unique_values  = np.unique(repeated_values)\n",
    "print(unique_values)\n"
   ]
  },
  {
   "cell_type": "code",
   "execution_count": 19,
   "id": "2dddc139-c78c-46e0-8cc0-4a9fa6444896",
   "metadata": {},
   "outputs": [
    {
     "name": "stdout",
     "output_type": "stream",
     "text": [
      "[  1   2  21  32  40  90 100 150 200]\n"
     ]
    }
   ],
   "source": [
    "#Sorting the array in ascending order\n",
    "\n",
    "unsorted_array = np.array([100, 200, 150, 2, 40, 21, 32, 90, 1])\n",
    "sorted_array = np.sort(unsorted_array)\n",
    "print(sorted_array)"
   ]
  },
  {
   "cell_type": "code",
   "execution_count": null,
   "id": "b7fa924b-cd4a-4bc9-88d1-6185abd44522",
   "metadata": {},
   "outputs": [],
   "source": []
  },
  {
   "cell_type": "code",
   "execution_count": 25,
   "id": "b1812cba-25e5-4be5-b758-68a09bfedb51",
   "metadata": {},
   "outputs": [
    {
     "name": "stdout",
     "output_type": "stream",
     "text": [
      "[1]\n",
      "[[0.12984963 0.99755874 0.85733663]\n",
      " [0.33510191 0.65912826 0.99193013]]\n",
      "[[[0.00678813 0.10919829 0.37127506 0.98223643 0.86041794 0.09977634\n",
      "   0.12233432]\n",
      "  [0.68575445 0.37460692 0.58864333 0.67518668 0.00401073 0.82475542\n",
      "   0.40310869]\n",
      "  [0.00171614 0.94790952 0.02755226 0.70594063 0.07411865 0.9422783\n",
      "   0.64496161]\n",
      "  [0.38106036 0.19375158 0.30293841 0.32408273 0.28352234 0.89013829\n",
      "   0.99650047]\n",
      "  [0.91499082 0.46629056 0.5861181  0.75115851 0.48704984 0.53777485\n",
      "   0.1794656 ]\n",
      "  [0.94413085 0.57409463 0.22506721 0.8813913  0.69393121 0.57878946\n",
      "   0.88016214]\n",
      "  [0.36103119 0.2212357  0.79331806 0.0451645  0.80391636 0.55445234\n",
      "   0.14135316]\n",
      "  [0.63944556 0.65262806 0.51497429 0.84088142 0.15993166 0.92327855\n",
      "   0.43219772]\n",
      "  [0.47923532 0.22864243 0.10071017 0.87648225 0.22440431 0.16087858\n",
      "   0.13781444]]\n",
      "\n",
      " [[0.82257988 0.11224161 0.55625312 0.03520321 0.80925564 0.67143586\n",
      "   0.31534379]\n",
      "  [0.98384547 0.83509536 0.26500057 0.66728649 0.47137676 0.18246651\n",
      "   0.18982063]\n",
      "  [0.48248213 0.29961659 0.68597392 0.89482851 0.35917055 0.66702392\n",
      "   0.90180269]\n",
      "  [0.90251174 0.42147356 0.24421671 0.16600568 0.17807673 0.03376822\n",
      "   0.16538053]\n",
      "  [0.2885656  0.94834429 0.77412927 0.99864789 0.90124591 0.16094094\n",
      "   0.16707651]\n",
      "  [0.39560394 0.13875002 0.49330826 0.14298648 0.23675362 0.22118306\n",
      "   0.27452221]\n",
      "  [0.48407116 0.82364877 0.10210729 0.70596716 0.131391   0.35899439\n",
      "   0.02584837]\n",
      "  [0.73597223 0.58939835 0.67362632 0.56432284 0.27107937 0.69472248\n",
      "   0.196625  ]\n",
      "  [0.67361798 0.48271198 0.16001951 0.42148658 0.18501299 0.65873495\n",
      "   0.26472793]]\n",
      "\n",
      " [[0.65361252 0.9194933  0.47170743 0.40257739 0.60650333 0.90905174\n",
      "   0.21233964]\n",
      "  [0.11499675 0.05704898 0.85715481 0.63696969 0.18761544 0.95176303\n",
      "   0.76729817]\n",
      "  [0.43568925 0.56267053 0.22046246 0.7388909  0.8109753  0.56729359\n",
      "   0.48159672]\n",
      "  [0.19373492 0.92156748 0.35272227 0.72349799 0.61697333 0.87263827\n",
      "   0.60073636]\n",
      "  [0.61745603 0.00716735 0.24560145 0.2278617  0.34870989 0.38446709\n",
      "   0.48714583]\n",
      "  [0.05089825 0.00704316 0.36606411 0.96964745 0.22839924 0.76848693\n",
      "   0.25023946]\n",
      "  [0.99332796 0.331973   0.49136142 0.59319629 0.88960568 0.9029375\n",
      "   0.1634104 ]\n",
      "  [0.89985793 0.37852016 0.96075735 0.57523255 0.48821072 0.29723392\n",
      "   0.16532208]\n",
      "  [0.59325619 0.81189681 0.18589248 0.13350697 0.44654448 0.42815545\n",
      "   0.35041601]]\n",
      "\n",
      " [[0.20030406 0.8759865  0.32476184 0.39884796 0.12108912 0.85381947\n",
      "   0.17048018]\n",
      "  [0.68842967 0.87402627 0.26116055 0.13714383 0.59448036 0.90706671\n",
      "   0.87493796]\n",
      "  [0.89184295 0.10352657 0.06521474 0.52805429 0.53662191 0.13653174\n",
      "   0.6915807 ]\n",
      "  [0.11822367 0.59057094 0.1419417  0.53666223 0.17080632 0.66617902\n",
      "   0.42369793]\n",
      "  [0.3268512  0.5411345  0.69043905 0.04079282 0.86841887 0.83413698\n",
      "   0.77238357]\n",
      "  [0.8095476  0.99032246 0.26334639 0.97708417 0.34089357 0.24983468\n",
      "   0.88653225]\n",
      "  [0.35409804 0.43564894 0.82620929 0.93365603 0.39893086 0.30393636\n",
      "   0.6514421 ]\n",
      "  [0.10428944 0.60366784 0.19778254 0.76661659 0.71218551 0.73647948\n",
      "   0.63867043]\n",
      "  [0.8759023  0.33883628 0.04169024 0.28882135 0.64678654 0.42870277\n",
      "   0.44958669]]]\n",
      "shape of 1D array: (1,)\n",
      "shape of 2D array: (2, 3)\n",
      "shape of 3D array: (4, 9, 7)\n",
      "size of 1D array: 1\n",
      "size of 2D array: 6\n",
      "size of 3D array: 252\n",
      "1\n",
      "2\n",
      "3\n"
     ]
    }
   ],
   "source": [
    "#Find the shape, size, and the number of dimension in an array \n",
    "\n",
    "array_1d = np.array([1])\n",
    "array_2d = np.random.random([2,3])\n",
    "array_3d = np.random.random([4,9,7])\n",
    "\n",
    "print(array_1d)\n",
    "print(array_2d)\n",
    "print(array_3d)\n",
    "\n",
    "#shape\n",
    "shape_1d = array_1d.shape\n",
    "shape_2d = array_2d.shape\n",
    "shape_3d = array_3d.shape\n",
    "\n",
    "#size\n",
    "size_1d = array_1d.size\n",
    "size_2d = array_2d.size\n",
    "size_3d = array_3d.size\n",
    "\n",
    "#dimension\n",
    "dimension_1d = array_1d.ndim\n",
    "dimension_2d = array_2d.ndim\n",
    "dimension_3d = array_3d.ndim\n",
    "\n",
    "\n",
    "print(\"shape of 1D array:\",shape_1d)\n",
    "print(\"shape of 2D array:\",shape_2d)\n",
    "print(\"shape of 3D array:\",shape_3d)\n",
    "\n",
    "print(\"size of 1D array:\",size_1d)\n",
    "print(\"size of 2D array:\",size_2d)\n",
    "print(\"size of 3D array:\",size_3d)\n",
    "\n",
    "print(dimension_1d)\n",
    "print(dimension_2d)\n",
    "print(dimension_3d)\n"
   ]
  },
  {
   "cell_type": "code",
   "execution_count": null,
   "id": "dcdd9c4a-9e3f-4868-aa26-bb2781926c68",
   "metadata": {},
   "outputs": [],
   "source": [
    "pip install"
   ]
  },
  {
   "cell_type": "code",
   "execution_count": 2,
   "id": "c7d05ab0-e59c-443b-b3b6-31d852d7c30a",
   "metadata": {},
   "outputs": [
    {
     "ename": "IndentationError",
     "evalue": "unindent does not match any outer indentation level (<tokenize>, line 10)",
     "output_type": "error",
     "traceback": [
      "\u001b[1;36m  File \u001b[1;32m<tokenize>:10\u001b[1;36m\u001b[0m\n\u001b[1;33m    for heading in headings: #print the text of each headings\u001b[0m\n\u001b[1;37m    ^\u001b[0m\n\u001b[1;31mIndentationError\u001b[0m\u001b[1;31m:\u001b[0m unindent does not match any outer indentation level\n"
     ]
    }
   ],
   "source": [
    "#Web Scraping \n",
    "\n",
    "import request\n",
    "from bs4 import BeautifulSoup\n",
    "\n",
    "def scrape_headings(url): \n",
    "    response = requests.get(url) #Send a GET request to the url\n",
    "    soup = BeautifulSoup(response.content, \"html.praser\") #parse the HTML content using BeautifulSoup\n",
    "    headings = soup.find_all([\"h1\", \"h2\", \"h3\", \"h4\", \"h5\"]) #find all the headings elements\n",
    "   for heading in headings: #print the text of each headings\n",
    "       print(heading.text.strip())\n",
    "\n",
    "input_url = input(\"Enter the URL to scrape:\")  #Prompt the user to enter the url\n",
    "scrape_headings(input_url)  #Call the scrape_headings function with input url"
   ]
  },
  {
   "cell_type": "code",
   "execution_count": null,
   "id": "6103571c-d777-4cb3-a6fb-ccb32e7b7def",
   "metadata": {},
   "outputs": [],
   "source": []
  }
 ],
 "metadata": {
  "kernelspec": {
   "display_name": "Python 3 (ipykernel)",
   "language": "python",
   "name": "python3"
  },
  "language_info": {
   "codemirror_mode": {
    "name": "ipython",
    "version": 3
   },
   "file_extension": ".py",
   "mimetype": "text/x-python",
   "name": "python",
   "nbconvert_exporter": "python",
   "pygments_lexer": "ipython3",
   "version": "3.11.7"
  }
 },
 "nbformat": 4,
 "nbformat_minor": 5
}
