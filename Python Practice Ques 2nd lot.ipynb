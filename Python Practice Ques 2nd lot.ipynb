{
 "cells": [
  {
   "cell_type": "code",
   "execution_count": 1,
   "id": "bafaebb8-8aa5-4eb4-b15d-2d76c7019fec",
   "metadata": {},
   "outputs": [
    {
     "name": "stdout",
     "output_type": "stream",
     "text": [
      "Welcome! Today's date and time is: 2024-05-13 21:45:05.886657\n"
     ]
    }
   ],
   "source": [
    "# Write a Python script that prints a welcome message along with the current date and time.\n",
    "# Print a welcome message with the current date and time\n",
    "import datetime\n",
    "print(\"Welcome! Today's date and time is:\", datetime.datetime.now())"
   ]
  },
  {
   "cell_type": "code",
   "execution_count": 2,
   "id": "b79ca3ee-248d-4fd2-a0fe-cd08714a9c01",
   "metadata": {},
   "outputs": [
    {
     "name": "stdout",
     "output_type": "stream",
     "text": [
      "1\n",
      "2\n",
      "3\n",
      "4\n",
      "5\n",
      "6\n",
      "7\n",
      "8\n",
      "9\n",
      "10\n"
     ]
    }
   ],
   "source": [
    "# Print a series of numbers from 1 to 10, each on a new line.\n",
    "# Print numbers from 1 to 10\n",
    "for i in range(1, 11):\n",
    "    print(i)"
   ]
  },
  {
   "cell_type": "code",
   "execution_count": 3,
   "id": "6f386793-c42a-42e7-a2c4-abe598dc0f9d",
   "metadata": {},
   "outputs": [
    {
     "name": "stdout",
     "output_type": "stream",
     "text": [
      "5.0\n",
      "Natural logarithm of 10 : 2.302585092994046\n",
      "Logarithm base 10 of 10 : 1.0\n",
      "Logarithm base 2 of 10 : 3.321928094887362\n",
      "Sine of 45 degrees: 0.7071067811865476\n",
      "Cosine of 45 degrees: 0.7071067811865476\n",
      "Tangent of 45 degrees: 0.9999999999999999\n"
     ]
    }
   ],
   "source": [
    "# Create variables to store the following information: name (string), age (integer), height (float), and is_student (boolean).\n",
    "# Creating variables of different data types\n",
    "name = \"John\"\n",
    "age = 25\n",
    "height = 6.1\n",
    "is_student = True\n",
    "\n",
    "# Convert a string variable containing a numerical value to an integer or float data type.\n",
    "# Converting string variable to integer or float\n",
    "str_num = \"10\"\n",
    "int_num = int(str_num)\n",
    "float_num = float(str_num)\n",
    "\n",
    "# Convert an integer variable to a string data type.\n",
    "# Converting integer variable to string\n",
    "int_value = 123\n",
    "str_value = str(int_value)\n",
    "\n",
    "# Perform arithmetic operations (addition, subtraction, multiplication, division) on numerical variables.\n",
    "import math\n",
    "\n",
    "# Arithmetic operations\n",
    "result_add = 5 + 3\n",
    "result_sub = 7 - 2\n",
    "result_mul = 4 * 6\n",
    "result_div = 10 / 2\n",
    "\n",
    "# Calculate the square root of a number.\n",
    "# Square root\n",
    "sqrt_value = math.sqrt(25)\n",
    "print(sqrt_value)\n",
    "\n",
    "# Use the math module to perform more advanced mathematical operations like calculating logarithms or trigonometric functions.\n",
    "import math\n",
    "\n",
    "# Calculate the natural logarithm (base e) of a number\n",
    "x = 10\n",
    "log_value = math.log(x)\n",
    "print(\"Natural logarithm of\", x, \":\", log_value)\n",
    "\n",
    "# Calculate the logarithm of a number with a specified base (e.g., base 10)\n",
    "log_base_10 = math.log10(x)\n",
    "print(\"Logarithm base 10 of\", x, \":\", log_base_10)\n",
    "\n",
    "# Calculate the logarithm of a number with a specified base (e.g., base 2)\n",
    "log_base_2 = math.log2(x)\n",
    "print(\"Logarithm base 2 of\", x, \":\", log_base_2)\n",
    "\n",
    "# Calculate trigonometric functions (sine, cosine, tangent) in radians\n",
    "angle_radians = math.radians(45)  # Convert angle from degrees to radians\n",
    "sin_value = math.sin(angle_radians)\n",
    "cos_value = math.cos(angle_radians)\n",
    "tan_value = math.tan(angle_radians)\n",
    "print(\"Sine of 45 degrees:\", sin_value)\n",
    "print(\"Cosine of 45 degrees:\", cos_value)\n",
    "print(\"Tangent of 45 degrees:\", tan_value)\n",
    "\n",
    "\n"
   ]
  },
  {
   "cell_type": "code",
   "execution_count": 4,
   "id": "52d58222-8f1e-4b99-b8a7-f902743953f2",
   "metadata": {},
   "outputs": [
    {
     "name": "stdout",
     "output_type": "stream",
     "text": [
      "Hello, world!\n"
     ]
    }
   ],
   "source": [
    "# Concatenate two strings to form a new string.\n",
    "# Concatenation\n",
    "message = \"Hello, \" + \"world!\"\n",
    "print(message)"
   ]
  },
  {
   "cell_type": "code",
   "execution_count": 6,
   "id": "af3b01c3-ea9f-432c-836d-295623b45294",
   "metadata": {},
   "outputs": [
    {
     "name": "stdout",
     "output_type": "stream",
     "text": [
      "is\n",
      "HELLO\n",
      "world\n"
     ]
    }
   ],
   "source": [
    "# Extract a substring from a given string.\n",
    "# Extract substring\n",
    "sentence = \"This is a sentence.\"\n",
    "substring = sentence[5:7]  # Extracts \"is\"\n",
    "print(substring)\n",
    "\n",
    "# Convert a string to uppercase or lowercase.\n",
    "# Convert to uppercase or lowercase\n",
    "uppercase_str = \"hello\".upper()\n",
    "lowercase_str = \"WORLD\".lower()\n",
    "print(uppercase_str)\n",
    "print(lowercase_str)\n",
    "\n"
   ]
  },
  {
   "cell_type": "code",
   "execution_count": 8,
   "id": "0863c602-bb42-4a02-9004-19ce6792898c",
   "metadata": {},
   "outputs": [
    {
     "name": "stdout",
     "output_type": "stream",
     "text": [
      "List of Numbers: [23, 45, 12, 67, 89, 34, 56, 78, 90]\n",
      "Sorted List: [12, 23, 34, 45, 56, 67, 78, 89, 90]\n",
      "Sum of Numbers: 494\n",
      "Mean of Numbers: 54.888888888888886\n",
      "Median of Numbers: 56\n",
      "Sum: 418\n",
      "Mean: 59.714285714285715\n",
      "Sorted List: [10, 20, 30, 45, 51, 62, 200]\n",
      "Median: 45\n"
     ]
    }
   ],
   "source": [
    "# Create a list of numbers and calculate the sum, mean, and median of the elements.\n",
    "# Create a list of numbers\n",
    "numbers = [23, 45, 12, 67, 89, 34, 56, 78, 90]\n",
    "\n",
    "# Calculate the sum of the elements\n",
    "sum_of_numbers = sum(numbers)\n",
    "\n",
    "# Calculate the mean (average) of the elements\n",
    "mean_of_numbers = sum_of_numbers / len(numbers)\n",
    "\n",
    "# Calculate the median of the elements\n",
    "sorted_numbers = sorted(numbers)\n",
    "n = len(numbers)\n",
    "if n % 2 == 0:\n",
    "    median_index = n // 2\n",
    "    median = (sorted_numbers[median_index - 1] + sorted_numbers[median_index]) / 2\n",
    "else:\n",
    "    median_index = n // 2\n",
    "    median = sorted_numbers[median_index]\n",
    "\n",
    "print(\"List of Numbers:\", numbers)\n",
    "print(\"Sorted List:\", sorted_numbers)\n",
    "print(\"Sum of Numbers:\", sum_of_numbers)\n",
    "print(\"Mean of Numbers:\", mean_of_numbers)\n",
    "print(\"Median of Numbers:\", median)\n",
    "\n",
    "# List of numbers\n",
    "numbers = [10, 200, 30, 45, 51, 62,20]\n",
    "\n",
    "# Calculate sum, mean, and median\n",
    "sum_nums = sum(numbers)\n",
    "mean_nums = sum_nums / len(numbers)\n",
    "sorted_nums = sorted(numbers)\n",
    "median_nums = sorted_nums[len(numbers)//2]\n",
    "print(\"Sum:\", sum_nums)\n",
    "print(\"Mean:\", mean_nums)\n",
    "print(\"Sorted List:\", sorted_nums)\n",
    "print(\"Median:\", median_nums)"
   ]
  },
  {
   "cell_type": "code",
   "execution_count": 10,
   "id": "5d062ca1-e0cb-4934-bb50-87862c0e5c6e",
   "metadata": {},
   "outputs": [
    {
     "name": "stdout",
     "output_type": "stream",
     "text": [
      "{'name': 'John', 'age': 30, 'gender': 'Male'}\n",
      "{'name': 'John', 'age': 35, 'gender': 'Male'}\n"
     ]
    }
   ],
   "source": [
    "# Append new elements to a list.\n",
    "# Remove duplicate elements from a list.\n",
    "# Create a dictionary representing a person with keys like \"name\", \"age\", and \"gender\".\n",
    "# Dictionary representing a person\n",
    "person = {\"name\": \"John\", \"age\": 30, \"gender\": \"Male\"}\n",
    "print(person)\n",
    "\n",
    "# Access and modify values in the dictionary.\n",
    "# Access and modify values\n",
    "person[\"age\"] = 35\n",
    "print(person)"
   ]
  },
  {
   "cell_type": "code",
   "execution_count": 12,
   "id": "1ed61773-bbe1-4a34-9730-68a4c6f99a05",
   "metadata": {},
   "outputs": [
    {
     "name": "stdout",
     "output_type": "stream",
     "text": [
      "name : John\n",
      "age : 35\n",
      "gender : Male\n",
      "name : John\n",
      "age : 35\n",
      "gender : Male\n"
     ]
    }
   ],
   "source": [
    "# Iterate over the key-value pairs in the dictionary and print them.\n",
    "# Iterate over key-value pairs\n",
    "for key, value in person.items():\n",
    "    print(key, \":\", value)\n",
    "\n",
    "# Write Python expressions using boolean operators (and, or, not).\n",
    "# Iterate over key-value pairs\n",
    "for key, value in person.items():\n",
    "    print(key, \":\", value)\n",
    "\n",
    "\n",
    "# Use boolean variables to control the flow of a program (e.g., in conditional statements or loops).\n"
   ]
  },
  {
   "cell_type": "code",
   "execution_count": 13,
   "id": "63a954f6-1ffe-4886-b368-0bfd80aa41b6",
   "metadata": {},
   "outputs": [
    {
     "name": "stdout",
     "output_type": "stream",
     "text": [
      "('apple', 'banana', 'orange')\n",
      "apple\n"
     ]
    },
    {
     "ename": "TypeError",
     "evalue": "'tuple' object does not support item assignment",
     "output_type": "error",
     "traceback": [
      "\u001b[1;31m---------------------------------------------------------------------------\u001b[0m",
      "\u001b[1;31mTypeError\u001b[0m                                 Traceback (most recent call last)",
      "Cell \u001b[1;32mIn[13], line 15\u001b[0m\n\u001b[0;32m     10\u001b[0m \u001b[38;5;28mprint\u001b[39m(first_fruit)\n\u001b[0;32m     13\u001b[0m \u001b[38;5;66;03m# Try to modify an element of a tuple and observe the error message.\u001b[39;00m\n\u001b[0;32m     14\u001b[0m \u001b[38;5;66;03m# Attempt to modify an element (will raise TypeError)\u001b[39;00m\n\u001b[1;32m---> 15\u001b[0m fruits[\u001b[38;5;241m0\u001b[39m] \u001b[38;5;241m=\u001b[39m \u001b[38;5;124m\"\u001b[39m\u001b[38;5;124mgrape\u001b[39m\u001b[38;5;124m\"\u001b[39m\n\u001b[0;32m     16\u001b[0m \u001b[38;5;28mprint\u001b[39m(fruits)\n",
      "\u001b[1;31mTypeError\u001b[0m: 'tuple' object does not support item assignment"
     ]
    }
   ],
   "source": [
    "# Create a tuple containing the names of different fruits.\n",
    "# Tuple containing fruit names\n",
    "fruits = (\"apple\", \"banana\", \"orange\")\n",
    "print(fruits)\n",
    "\n",
    "\n",
    "# Access elements of a tuple using indexing.\n",
    "# Access elements using indexing\n",
    "first_fruit = fruits[0]\n",
    "print(first_fruit)\n",
    "\n",
    "\n",
    "# Try to modify an element of a tuple and observe the error message.\n",
    "# Attempt to modify an element (will raise TypeError)\n",
    "fruits[0] = \"grape\"\n",
    "print(fruits)"
   ]
  },
  {
   "cell_type": "code",
   "execution_count": 14,
   "id": "697c5bfe-6e88-458b-98c6-08ea0f4cb389",
   "metadata": {},
   "outputs": [
    {
     "name": "stdout",
     "output_type": "stream",
     "text": [
      "{1, 2, 3, 4, 5, 6, 7, 8}\n",
      "{4, 5}\n",
      "{1, 2, 3}\n"
     ]
    }
   ],
   "source": [
    "# Create two sets of numbers and perform set operations like union, intersection, and difference.\n",
    "# Sets of numbers\n",
    "set1 = {1, 2, 3, 4, 5}\n",
    "set2 = {4, 5, 6, 7, 8}\n",
    "\n",
    "# Set operations\n",
    "union_set = set1.union(set2)\n",
    "intersection_set = set1.intersection(set2)\n",
    "difference_set = set1.difference(set2)\n",
    "print(union_set)\n",
    "print(intersection_set)\n",
    "print(difference_set)\n",
    "\n",
    "# Check if a given element exists in a set.\n",
    "# Define a set\n",
    "my_set = {1, 2, 3, 4, 5}\n",
    "\n",
    "# Element to check\n",
    "element = 3\n",
    "\n",
    "# Check if the element exists in the set\n",
    "if element in my_set:\n",
    "    print(f\"The element {element} exists in the set.\")\n",
    "else:\n",
    "    print(f\"The element {element} does not exist in the set.\")\n",
    "\n",
    "# Convert a list to a set to remove duplicate elements.\n",
    "# Define a list with duplicate elements\n",
    "my_list = [1, 2, 3, 4, 3, 2, 5, 6, 5]\n",
    "\n",
    "# Convert the list to a set to remove duplicates\n",
    "unique_set = set(my_list)\n",
    "\n",
    "# Convert the set back to a list if needed\n",
    "unique_list = list(unique_set)\n",
    "\n",
    "print(\"Original List:\", my_list)\n",
    "print(\"List after removing duplicates:\", unique_list)\n",
    "\n",
    "\n",
    "# Write Python expressions using comparison operators (>, <, ==, !=, >=, <=).\n",
    "# Comparison operators\n",
    "greater_than = 5 > 3\n",
    "equal_to = \"hello\" == \"world\"\n",
    "not_equal = 10 != 5\n",
    "print(greater_than)\n",
    "print(equal_to)\n",
    "print(not_equal)\n",
    "\n",
    "\n",
    "# Write a Python script that asks the user to input their age and prints different messages based on whether they are a child, teenager, adult, or senior citizen.\n",
    "# If-elif-else statements\n",
    "age = int(input(\"Enter your age: \"))\n",
    "if age < 18:\n",
    "    print(\"You are a child.\")\n",
    "elif age < 65:\n",
    "    print(\"You are an adult.\")\n",
    "else:\n",
    "    print(\"You are a senior citizen.\")\n",
    "\n",
    "\n",
    "# Implement a grading system that assigns letter grades (A, B, C, D, F) based on numerical scores.\n",
    "\n"
   ]
  },
  {
   "cell_type": "code",
   "execution_count": null,
   "id": "7b6f3455-d521-4d0f-b1c8-be9202be3a83",
   "metadata": {},
   "outputs": [],
   "source": []
  }
 ],
 "metadata": {
  "kernelspec": {
   "display_name": "Python 3 (ipykernel)",
   "language": "python",
   "name": "python3"
  },
  "language_info": {
   "codemirror_mode": {
    "name": "ipython",
    "version": 3
   },
   "file_extension": ".py",
   "mimetype": "text/x-python",
   "name": "python",
   "nbconvert_exporter": "python",
   "pygments_lexer": "ipython3",
   "version": "3.11.7"
  }
 },
 "nbformat": 4,
 "nbformat_minor": 5
}
