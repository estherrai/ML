{
 "cells": [
  {
   "cell_type": "code",
   "execution_count": 2,
   "id": "95d86c11-996b-48a2-891b-10acae1ddbc8",
   "metadata": {},
   "outputs": [
    {
     "name": "stdout",
     "output_type": "stream",
     "text": [
      "Hey!\n",
      "Welcome\n",
      "to\n",
      "ISMT College!\n"
     ]
    }
   ],
   "source": [
    "#Using escape sequence, printing each word in different lines\n",
    "\n",
    "welcome = (\"Hey!\",\"Welcome\",\"to\",\"ISMT College!\")\n",
    "for come in welcome:\n",
    "    print(come)"
   ]
  },
  {
   "cell_type": "code",
   "execution_count": 6,
   "id": "b9246e67-3f25-4a57-bb77-089982b08ff9",
   "metadata": {},
   "outputs": [
    {
     "name": "stdout",
     "output_type": "stream",
     "text": [
      "[4, 6, 8, 10, 12, 14, 16]\n"
     ]
    }
   ],
   "source": [
    "#creating a list of even numbers starting from x to y\n",
    "\n",
    "def even_numbers(x, y):\n",
    "    if x % 2 != 0:\n",
    "        x += 1\n",
    "\n",
    "    # Generating the list of even numbers from x to y\n",
    "    even_list = list(range(x, y+1, 2))\n",
    "    return even_list\n",
    "    \n",
    "x = 3\n",
    "y = 17\n",
    "print(even_numbers(x, y))\n"
   ]
  },
  {
   "cell_type": "code",
   "execution_count": 26,
   "id": "b3641596-cb73-4f59-b257-3f575a9e2d35",
   "metadata": {},
   "outputs": [
    {
     "name": "stdout",
     "output_type": "stream",
     "text": [
      "I am drinking Xtreme rn.\n"
     ]
    }
   ],
   "source": [
    "#replacing a given word X with Y from a string\n",
    "def replace_word(input_string, X, Y):\n",
    "    result_string = input_string.replace(X,Y)\n",
    "    return result_string\n",
    "\n",
    "input_string = \"I am drinking tea rn.\"\n",
    "X = \"tea\"\n",
    "Y = \"Xtreme\"\n",
    "print(replace_word(input_string, X, Y))\n"
   ]
  },
  {
   "cell_type": "code",
   "execution_count": 30,
   "id": "419fd26d-2759-4014-be73-ddcd90280487",
   "metadata": {},
   "outputs": [
    {
     "name": "stdout",
     "output_type": "stream",
     "text": [
      "0 1 1 2 3 5 8 13 21 34\n"
     ]
    }
   ],
   "source": [
    "#Generating N numbers Fibonacci series separated by space.\n",
    "\n",
    "def fibonacci_series(N):\n",
    "    fib_sequence = [0, 1]\n",
    "\n",
    "    while len(fib_sequence) < N:\n",
    "        next_number = fib_sequence[-1] + fib_sequence[-2]\n",
    "        fib_sequence.append(next_number)\n",
    "\n",
    "    return ' '.join(map(str, fib_sequence[:N]))\n",
    "\n",
    "N = 10\n",
    "print(fibonacci_series(N))\n"
   ]
  },
  {
   "cell_type": "code",
   "execution_count": 39,
   "id": "38cded2b-25a2-446a-b109-6a4c8c9eef5f",
   "metadata": {},
   "outputs": [
    {
     "name": "stdout",
     "output_type": "stream",
     "text": [
      "The sum of digits is: 17\n"
     ]
    }
   ],
   "source": [
    "#The sum of digits from a given integer number N\n",
    "\n",
    "def sum_of_digits(N):\n",
    "    N_str = str(N)\n",
    "    total_sum = 0\n",
    "    for digit in N_str:\n",
    "        total_sum += int(digit)\n",
    "    return total_sum\n",
    "\n",
    "N = 98\n",
    "print(\"The sum of digits is:\", sum_of_digits(N))\n",
    "\n",
    "\n"
   ]
  },
  {
   "cell_type": "code",
   "execution_count": 40,
   "id": "b05eeafa-8085-4561-a529-8c67adfd9a5a",
   "metadata": {},
   "outputs": [
    {
     "name": "stdout",
     "output_type": "stream",
     "text": [
      "The factorial of 5 is: 120\n"
     ]
    }
   ],
   "source": [
    "#The factorial of a given number N\n",
    "\n",
    "def factorial(N):\n",
    "    result = 1\n",
    "    for i in range(1, N + 1):\n",
    "        result += result * (i - 1)\n",
    "    return result\n",
    "\n",
    "\n",
    "N = 5\n",
    "print(\"The factorial of\", N, \"is:\", factorial(N))\n"
   ]
  },
  {
   "cell_type": "code",
   "execution_count": 42,
   "id": "4d271e1d-b08b-437e-a7a4-6cf89187da04",
   "metadata": {},
   "outputs": [
    {
     "name": "stdin",
     "output_type": "stream",
     "text": [
      "Enter the number of values:  2\n",
      "Enter value 1:  19\n",
      "Enter value 2:  55\n"
     ]
    },
    {
     "name": "stdout",
     "output_type": "stream",
     "text": [
      "Entered values as a list: ['19', '55']\n"
     ]
    }
   ],
   "source": [
    "#A program that accepts N values and print it as a list\n",
    "\n",
    "def get_values(N):\n",
    "    values = []\n",
    "\n",
    "    for i in range(N):\n",
    "        value = input(f\"Enter value {i+1}: \")\n",
    "        values.append(value)\n",
    "\n",
    "    return values\n",
    "\n",
    "N = int(input(\"Enter the number of values: \"))\n",
    "print(\"Entered values as a list:\", get_values(N))\n"
   ]
  },
  {
   "cell_type": "code",
   "execution_count": 43,
   "id": "d1a56f86-df3b-486b-9c92-262d85131a66",
   "metadata": {},
   "outputs": [
    {
     "name": "stdout",
     "output_type": "stream",
     "text": [
      "Yes\n"
     ]
    }
   ],
   "source": [
    "#To find whether the given number is Armstrong number or not and print out Yes or No\n",
    "\n",
    "def is_armstrong_number(number):\n",
    "    num_str = str(number)\n",
    "    total_sum = 0\n",
    "    power = len(num_str)\n",
    "    for digit in num_str:\n",
    "        total_sum += int(digit) ** power\n",
    "    if total_sum == number:\n",
    "        return True\n",
    "    else:\n",
    "        return False\n",
    "\n",
    "number = 153\n",
    "if is_armstrong_number(number):\n",
    "    print(\"Yes\")\n",
    "else:\n",
    "    print(\"No\")\n"
   ]
  },
  {
   "cell_type": "code",
   "execution_count": 44,
   "id": "faae5202-daab-405f-a876-f72653cef14d",
   "metadata": {},
   "outputs": [
    {
     "name": "stdout",
     "output_type": "stream",
     "text": [
      "The 5 th term of the arithmetic progression is: 14\n"
     ]
    }
   ],
   "source": [
    "#Finding the Nth number of an arithmetic progression when initial number (a) and common difference (d) are given\n",
    "\n",
    "def nth_term_of_ap(a, d, N):\n",
    "    Nth_term = a + (N - 1) * d\n",
    "    return Nth_term\n",
    "\n",
    "a = 2 \n",
    "d = 3  \n",
    "N = 5  \n",
    "print(\"The\", N, \"th term of the arithmetic progression is:\", nth_term_of_ap(a, d, N))\n"
   ]
  },
  {
   "cell_type": "code",
   "execution_count": 45,
   "id": "aaf56814-1ead-4483-b87e-fe3c9d883f17",
   "metadata": {},
   "outputs": [
    {
     "name": "stdout",
     "output_type": "stream",
     "text": [
      "The geometric progression sequence is: [2, 6, 18, 54, 162]\n"
     ]
    }
   ],
   "source": [
    "#Generating a sequence of N numbers of a geometric progression when initial number (a) and common ratio (r) is given, printing the sequence as a list\n",
    "\n",
    "def geometric_progression(a, r, N):\n",
    "    sequence = []\n",
    "    for i in range(N):\n",
    "        term = a * (r ** i)\n",
    "        sequence.append(term)\n",
    "    return sequence\n",
    "\n",
    "\n",
    "a = 2 \n",
    "r = 3  \n",
    "N = 5  \n",
    "print(\"The geometric progression sequence is:\", geometric_progression(a, r, N))\n",
    "\n"
   ]
  },
  {
   "cell_type": "code",
   "execution_count": 48,
   "id": "04511aa9-6a54-4388-a89d-7b9ec00bcb13",
   "metadata": {},
   "outputs": [
    {
     "name": "stdin",
     "output_type": "stream",
     "text": [
      "Enter a string:  sup Bro yO MAma 39749\n"
     ]
    },
    {
     "name": "stdout",
     "output_type": "stream",
     "text": [
      "Number of lowercase letters: 8\n",
      "Number of uppercase letters: 4\n",
      "Number of numeric digits: 5\n"
     ]
    }
   ],
   "source": [
    "#Calculating the number of lowercase, uppercase, and numbers alphabets\n",
    "\n",
    "string = input(\"Enter a string: \")\n",
    "\n",
    "\n",
    "lowercase_count = 0\n",
    "uppercase_count = 0\n",
    "digit_count = 0\n",
    "\n",
    "\n",
    "for char in string:\n",
    "\n",
    "    if char.islower():\n",
    "        lowercase_count += 1\n",
    "\n",
    "    elif char.isupper():\n",
    "        uppercase_count += 1\n",
    "\n",
    "    elif char.isdigit():\n",
    "        digit_count += 1\n",
    "\n",
    "\n",
    "print(\"Number of lowercase letters:\", lowercase_count)\n",
    "print(\"Number of uppercase letters:\", uppercase_count)\n",
    "print(\"Number of numeric digits:\", digit_count)"
   ]
  },
  {
   "cell_type": "code",
   "execution_count": 55,
   "id": "ca6a21f8-83b8-4984-81ef-c48dd6222009",
   "metadata": {},
   "outputs": [
    {
     "name": "stdin",
     "output_type": "stream",
     "text": [
      "Enter a string: samosa\n"
     ]
    },
    {
     "name": "stdout",
     "output_type": "stream",
     "text": [
      "The string is not a palindrome.\n"
     ]
    }
   ],
   "source": [
    "#Finding whether the given string is palindrome or not\n",
    "\n",
    "string = input (\"Enter a string:\")\n",
    "\n",
    "if string == string [::-1]:\n",
    "    print(\"The string is a palindrome.\")\n",
    "else:\n",
    "    print(\"The string is not a palindrome.\")\n"
   ]
  },
  {
   "cell_type": "code",
   "execution_count": 51,
   "id": "f235110d-e240-4d78-ac5f-f99bd42212e1",
   "metadata": {},
   "outputs": [
    {
     "name": "stdout",
     "output_type": "stream",
     "text": [
      "Sorted numbers: 1, 2, 3, 5, 6, 8, 9\n"
     ]
    }
   ],
   "source": [
    "#A program that accepts a sequence of numbers and print the numbers after sorting them separated by comma\n",
    "\n",
    "def sort_and_print(numbers):\n",
    "    sorted_numbers = sorted(numbers)\n",
    "    sorted_string = \", \".join(map(str, sorted_numbers))\n",
    "    print(\"Sorted numbers:\", sorted_string)\n",
    "\n",
    "input_sequence = [9, 3, 6, 1, 8, 2, 5]\n",
    "sort_and_print(input_sequence)\n"
   ]
  },
  {
   "cell_type": "code",
   "execution_count": 56,
   "id": "d04e42c8-fdd2-4718-b90e-af47245d9931",
   "metadata": {},
   "outputs": [
    {
     "name": "stdout",
     "output_type": "stream",
     "text": [
      "dict1= {'A': 10, 'B': 20}\n",
      "dict2= {'C': 30, 'D': 40}\n",
      "dict3= {'E': 50, 'F': 60}\n"
     ]
    }
   ],
   "source": [
    "#Concatenating the dictionaries\n",
    "\n",
    "dict1 = {'A': 10, 'B': 20}\n",
    "dict2 = {'C': 30, 'D': 40}\n",
    "dict3 = {'E': 50, 'F': 60}\n",
    "print(\"dict1=\",dict1)\n",
    "print(\"dict2=\",dict2)\n",
    "print(\"dict3=\",dict3)\n"
   ]
  },
  {
   "cell_type": "code",
   "execution_count": null,
   "id": "fb419b14-d0a5-49ab-a726-bb2ef05eabc5",
   "metadata": {},
   "outputs": [],
   "source": [
    "#Creating a dictionary with student names as keys and their average marks from all subject. \n",
    "\n"
   ]
  },
  {
   "cell_type": "code",
   "execution_count": 57,
   "id": "65f13898-636e-47eb-84d1-ee70c3fc7a18",
   "metadata": {},
   "outputs": [
    {
     "name": "stdin",
     "output_type": "stream",
     "text": [
      "Enter Your balance: 9000\n"
     ]
    },
    {
     "name": "stdout",
     "output_type": "stream",
     "text": [
      "Your current balance is $9000\n",
      "Successfully credited $500.\n",
      "Your current balance is $9500\n",
      "Successfully debited $2000.\n",
      "Your current balance is $7500\n",
      "Error: Amount must be positive.\n",
      "Error: Amount must be positive.\n"
     ]
    }
   ],
   "source": [
    "#Debit and credit money from a bank account using a function\n",
    "\n",
    "balance = int(input(\"Enter Your balance:\"))\n",
    "\n",
    "def display_balance():\n",
    "    print(f\"Your current balance is ${balance}\")\n",
    "\n",
    "# credit money in acc function\n",
    "def credit(amount):\n",
    "    global balance\n",
    "    if amount > 0:\n",
    "        balance += amount\n",
    "        print(f\"Successfully credited ${amount}.\")\n",
    "        display_balance()\n",
    "    else:\n",
    "        print(\"Error: Amount must be positive.\")\n",
    "\n",
    "# debit function\n",
    "def debit(amount):\n",
    "    global balance\n",
    "    if amount > 0:\n",
    "        if amount <= balance:\n",
    "            balance -= amount\n",
    "            print(f\"Successfully debited ${amount}.\")\n",
    "            display_balance()\n",
    "        else:\n",
    "            print(\"Error: Insufficient funds.\")\n",
    "    else:\n",
    "        print(\"Error: Amount must be positive.\")\n",
    "\n",
    "\n",
    "if __name__ == \"__main__\":\n",
    "    display_balance()  \n",
    "  \n",
    "    credit(500)\n",
    "\n",
    "    debit(2000)\n",
    "\n",
    "    debit(-100)\n",
    "\n",
    "    credit(-100)\n"
   ]
  },
  {
   "cell_type": "code",
   "execution_count": 59,
   "id": "56103f2a-e2d6-493c-a6f5-1fbde1c865c9",
   "metadata": {},
   "outputs": [
    {
     "name": "stdin",
     "output_type": "stream",
     "text": [
      "Enter first date (YYYY-MM-DD):  2022-10-11\n",
      "Enter second date (YYYY-MM-DD):  2024-02-29\n"
     ]
    },
    {
     "name": "stdout",
     "output_type": "stream",
     "text": [
      "Difference between the two dates: 506 days, 0:00:00\n"
     ]
    }
   ],
   "source": [
    "#Finding the difference between two dates\n",
    "\n",
    "from datetime import datetime\n",
    "\n",
    "date1_str = input(\"Enter first date (YYYY-MM-DD): \")\n",
    "date2_str = input(\"Enter second date (YYYY-MM-DD): \")\n",
    "\n",
    "date1 = datetime.strptime(date1_str, \"%Y-%m-%d\")\n",
    "date2 = datetime.strptime(date2_str, \"%Y-%m-%d\")\n",
    "\n",
    "difference = date2 - date1\n",
    "\n",
    "print(\"Difference between the two dates:\", difference)\n"
   ]
  },
  {
   "cell_type": "code",
   "execution_count": 60,
   "id": "6afcc6a0-7b35-4c7d-aea5-a38152d0083c",
   "metadata": {},
   "outputs": [
    {
     "name": "stdin",
     "output_type": "stream",
     "text": [
      "Enter an email address:  kaorionna11@gmail.com\n"
     ]
    },
    {
     "name": "stdout",
     "output_type": "stream",
     "text": [
      "Valid email address.\n"
     ]
    }
   ],
   "source": [
    "#To verify Email ID syntax using regular expression\n",
    "\n",
    "import re\n",
    "\n",
    "email = input(\"Enter an email address: \")\n",
    "\n",
    "pattern = r\"^[a-zA-Z0-9._%+-]+@[a-zA-Z0-9.-]+\\.[a-zA-Z]{2,}$\"\n",
    "\n",
    "if re.match(pattern, email):\n",
    "    print(\"Valid email address.\")\n",
    "else:\n",
    "    print(\"Invalid email address.\")"
   ]
  },
  {
   "cell_type": "code",
   "execution_count": 61,
   "id": "fa64f134-a313-4e8c-aa81-fe5336bb8d9e",
   "metadata": {},
   "outputs": [
    {
     "name": "stdin",
     "output_type": "stream",
     "text": [
      "Enter the dividend:  98\n",
      "Enter the divisor:  9\n"
     ]
    },
    {
     "name": "stdout",
     "output_type": "stream",
     "text": [
      "Result of division: 10.88888888888889\n"
     ]
    }
   ],
   "source": [
    "#Dividing a number using try and except\n",
    "\n",
    "try:\n",
    "    dividend = float(input(\"Enter the dividend: \"))\n",
    "    divisor = float(input(\"Enter the divisor: \"))\n",
    "    \n",
    "    result = dividend / divisor\n",
    "    print(\"Result of division:\", result)\n",
    "except ZeroDivisionError:\n",
    "    print(\"Error: Division by zero\")\n",
    "except ValueError:\n",
    "    print(\"Error: Please enter valid numeric inputs.\")"
   ]
  },
  {
   "cell_type": "code",
   "execution_count": 1,
   "id": "4b803108-bdc5-418a-8ba5-d66b78f1cd5c",
   "metadata": {},
   "outputs": [
    {
     "name": "stdout",
     "output_type": "stream",
     "text": [
      "^C\n",
      "Note: you may need to restart the kernel to use updated packages.\n"
     ]
    }
   ],
   "source": [
    "pip install NumPy"
   ]
  },
  {
   "cell_type": "code",
   "execution_count": 8,
   "id": "1b54a068-b1bb-44be-a696-6a4a78fe2ba8",
   "metadata": {},
   "outputs": [
    {
     "name": "stdout",
     "output_type": "stream",
     "text": [
      "The multiplication of two matrix is: [ 4 10 18]\n"
     ]
    }
   ],
   "source": [
    "#Multiplying two matrixes using NumPy\n",
    "\n",
    "import numpy as np\n",
    "array1 = np.array([1,2,3])\n",
    "array2 = np.array([4,5,6])\n",
    "multiplication = array1 * array2\n",
    "print(\"The multiplication of two matrix is:\", multiplication)"
   ]
  },
  {
   "cell_type": "code",
   "execution_count": null,
   "id": "8c033d7c-72bc-43e6-b9ce-995e38153cf6",
   "metadata": {},
   "outputs": [],
   "source": []
  }
 ],
 "metadata": {
  "kernelspec": {
   "display_name": "Python 3 (ipykernel)",
   "language": "python",
   "name": "python3"
  },
  "language_info": {
   "codemirror_mode": {
    "name": "ipython",
    "version": 3
   },
   "file_extension": ".py",
   "mimetype": "text/x-python",
   "name": "python",
   "nbconvert_exporter": "python",
   "pygments_lexer": "ipython3",
   "version": "3.11.7"
  }
 },
 "nbformat": 4,
 "nbformat_minor": 5
}
