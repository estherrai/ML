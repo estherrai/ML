{
 "cells": [
  {
   "cell_type": "code",
   "execution_count": 1,
   "id": "3c09e62c-76be-41c2-aa96-804a04fe35cb",
   "metadata": {},
   "outputs": [
    {
     "name": "stdout",
     "output_type": "stream",
     "text": [
      "lets learn the python for machine learning\n"
     ]
    }
   ],
   "source": [
    "# print statements\n",
    "print(\"lets learn the python for machine learning\")"
   ]
  },
  {
   "cell_type": "code",
   "execution_count": 2,
   "id": "5ffd050f-cc0d-4960-854a-4b8b879143d1",
   "metadata": {},
   "outputs": [
    {
     "name": "stdout",
     "output_type": "stream",
     "text": [
      "16\n",
      "Arman\n"
     ]
    }
   ],
   "source": [
    "#lets create two variables and print them\n",
    "x = 16\n",
    "y = \"Arman\"\n",
    "print(x)\n",
    "print (y)"
   ]
  },
  {
   "cell_type": "code",
   "execution_count": 3,
   "id": "3f78982f-c20f-4f09-ad91-75f80b7070ac",
   "metadata": {},
   "outputs": [
    {
     "name": "stdout",
     "output_type": "stream",
     "text": [
      "Arman is 16 years old.\n"
     ]
    }
   ],
   "source": [
    "#let's print the statement with string formatting\n",
    "print(f\"{y} is {x} years old.\")"
   ]
  },
  {
   "cell_type": "code",
   "execution_count": 4,
   "id": "a710a2ff-6d97-4654-b525-35b2f8e2ed66",
   "metadata": {},
   "outputs": [
    {
     "name": "stdout",
     "output_type": "stream",
     "text": [
      "Arman is 16 years old.\n"
     ]
    }
   ],
   "source": [
    "#Using string format method\n",
    "print(\"{} is {} years old.\" .format(y,x))"
   ]
  },
  {
   "cell_type": "code",
   "execution_count": 6,
   "id": "d11602f2-3ca2-44ea-9d5a-a671a9a71cfd",
   "metadata": {},
   "outputs": [
    {
     "name": "stdout",
     "output_type": "stream",
     "text": [
      "Arman is 16 years old. \n"
     ]
    }
   ],
   "source": [
    "#Using Concatenation method\n",
    "print(y + \" is \" + str(x) + \" years old. \")"
   ]
  },
  {
   "cell_type": "code",
   "execution_count": 7,
   "id": "bd064a93-3bdb-452f-8461-013e455f62c1",
   "metadata": {},
   "outputs": [
    {
     "name": "stdout",
     "output_type": "stream",
     "text": [
      "Arman is 16 years old.\n"
     ]
    }
   ],
   "source": [
    "#Using older % string formatting method\n",
    "print(\"%s is %d years old.\" %(y,x))"
   ]
  },
  {
   "cell_type": "markdown",
   "id": "a9f6fb7d-99af-4c5b-9035-1c7e047b0a8e",
   "metadata": {},
   "source": [
    "2. Data Types\n",
    "  - Numbers"
   ]
  },
  {
   "cell_type": "code",
   "execution_count": 13,
   "id": "26d58824-bb14-4e4b-84ef-54df03f89516",
   "metadata": {},
   "outputs": [
    {
     "name": "stdout",
     "output_type": "stream",
     "text": [
      "The addition of x and y is 72.\n",
      "The subtraction of x and y is -40.\n",
      "The multiplication of x and y is 896.\n",
      "The division of x and y is 0.2857142857142857.\n",
      "The remainder is 8.\n"
     ]
    }
   ],
   "source": [
    "#Working with numbers\n",
    "x = 16\n",
    "y = 56\n",
    "print(f\"The addition of x and y is {x+y}.\")\n",
    "print(f\"The subtraction of x and y is {x-y}.\")\n",
    "print(f\"The multiplication of x and y is {x*y}.\")\n",
    "print(f\"The division of x and y is {x/y}.\")\n",
    "print(f\"The remainder is {y%x}.\")"
   ]
  },
  {
   "cell_type": "code",
   "execution_count": 22,
   "id": "4afac7b0-1153-4c51-9907-4e989876143d",
   "metadata": {},
   "outputs": [
    {
     "name": "stdout",
     "output_type": "stream",
     "text": [
      "Single Quoted String: Python is amazing\n",
      "Double Quoted String: Python is amazing\n"
     ]
    }
   ],
   "source": [
    " #String\n",
    "#working with single-quoted string\n",
    "\n",
    "single_quoted_string = 'Python is amazing' \n",
    "print(\"Single Quoted String:\", single_quoted_string)\n",
    "\n",
    "double_quoted_string = \"Python is amazing\"\n",
    "print(\"Double Quoted String:\", double_quoted_string)"
   ]
  },
  {
   "cell_type": "code",
   "execution_count": 19,
   "id": "8a483b0c-958d-4644-8665-031264c512e5",
   "metadata": {},
   "outputs": [
    {
     "name": "stdout",
     "output_type": "stream",
     "text": [
      "Concatenated String is: Python is amazing Python is amazing\n"
     ]
    }
   ],
   "source": [
    "#String Concatenation\n",
    "concatenated_string = single_quoted_string + ' ' + single_quoted_string \n",
    "print(\"Concatenated String is:\", concatenated_string)"
   ]
  },
  {
   "cell_type": "code",
   "execution_count": 3,
   "id": "1bc4652c-b509-414c-b4b6-1c6607672699",
   "metadata": {},
   "outputs": [
    {
     "ename": "NameError",
     "evalue": "name 'concatenated_string' is not defined",
     "output_type": "error",
     "traceback": [
      "\u001b[1;31m---------------------------------------------------------------------------\u001b[0m",
      "\u001b[1;31mNameError\u001b[0m                                 Traceback (most recent call last)",
      "Cell \u001b[1;32mIn[3], line 2\u001b[0m\n\u001b[0;32m      1\u001b[0m \u001b[38;5;66;03m#string methods\u001b[39;00m\n\u001b[1;32m----> 2\u001b[0m uppercase_string \u001b[38;5;241m=\u001b[39m concatenated_string\u001b[38;5;241m.\u001b[39mupper()\n\u001b[0;32m      3\u001b[0m \u001b[38;5;28mprint\u001b[39m(uppercase_string)\n\u001b[0;32m      4\u001b[0m lowercase_string \u001b[38;5;241m=\u001b[39mconcatenated_string\u001b[38;5;241m.\u001b[39mlower()\n",
      "\u001b[1;31mNameError\u001b[0m: name 'concatenated_string' is not defined"
     ]
    }
   ],
   "source": [
    "#string methods\n",
    "uppercase_string = concatenated_string.upper()\n",
    "print(uppercase_string)\n",
    "lowercase_string =concatenated_string.lower()\n",
    "print(lowercase_string)\n",
    "\n",
    "#String slicing examples\n",
    "word=\"University of sundarland\"\n",
    "slice_word= word[4:10]\n",
    "print(\"slice word is:\", slice_word)\n",
    "\n",
    "#Remove leading and trailing spaces\n",
    "word_space =\"  Pokhara University  \"\n",
    "print(word_space)\n",
    "remove_space = word_space.strip()\n",
    "print(remove_space)\n",
    "\n",
    "word_list = [\"kali\",\"linux\",\"is\",\"used\", \"for\",\"hacking\"]\n",
    "print(\"Word list is:\",word_list)\n",
    "sentence = \" \".join(word_list)\n",
    "print(\"Complete sentence is:\",sentence)\n",
    "\n",
    "word_list= \"hello, World!\"\n",
    "replaced_string = word_list.replace(\"hello\",\"Cybersecurity\")\n",
    "print(\"Replaced String:\",replaced_string)\n",
    "\n",
    "#find a word in sentence\n",
    "word = \"python is Awesome!! I'm learning python crash course\"\n",
    "index = word.find(\"Awesome\")\n",
    "print(\"Index of Awesome is:\",index)"
   ]
  },
  {
   "cell_type": "code",
   "execution_count": 1,
   "id": "ad9c6a51-c703-4a39-a3a3-d40a2fd3cafd",
   "metadata": {},
   "outputs": [
    {
     "name": "stdout",
     "output_type": "stream",
     "text": [
      "['mahajatra', 'papi manxe', 'Animal', 'Hera Pheri']\n"
     ]
    }
   ],
   "source": [
    "#List, creating a list\n",
    "fav_movie = [\"mahajatra\", \"papi manxe\",\"Animal\",\"Hera Pheri\"]\n",
    "print(fav_movie)\n"
   ]
  },
  {
   "cell_type": "code",
   "execution_count": 1,
   "id": "ca1ce27f-78e4-4a0b-9497-2c070cc4380f",
   "metadata": {},
   "outputs": [
    {
     "ename": "NameError",
     "evalue": "name 'fav_movie' is not defined",
     "output_type": "error",
     "traceback": [
      "\u001b[1;31m---------------------------------------------------------------------------\u001b[0m",
      "\u001b[1;31mNameError\u001b[0m                                 Traceback (most recent call last)",
      "Cell \u001b[1;32mIn[1], line 2\u001b[0m\n\u001b[0;32m      1\u001b[0m \u001b[38;5;66;03m#Accessong the element of List\u001b[39;00m\n\u001b[1;32m----> 2\u001b[0m \u001b[38;5;28mprint\u001b[39m(\u001b[38;5;124m\"\u001b[39m\u001b[38;5;124marman fav Movie:\u001b[39m\u001b[38;5;124m\"\u001b[39m,fav_movie[\u001b[38;5;241m1\u001b[39m])\n\u001b[0;32m      3\u001b[0m \u001b[38;5;28mprint\u001b[39m(\u001b[38;5;124m\"\u001b[39m\u001b[38;5;124mDhirajan fav Movie:\u001b[39m\u001b[38;5;124m\"\u001b[39m,fav_movie[\u001b[38;5;241m3\u001b[39m])\n\u001b[0;32m      4\u001b[0m \u001b[38;5;28mprint\u001b[39m(\u001b[38;5;124m\"\u001b[39m\u001b[38;5;124mbina fav Movie:\u001b[39m\u001b[38;5;124m\"\u001b[39m,fav_movie[\u001b[38;5;241m0\u001b[39m])\n",
      "\u001b[1;31mNameError\u001b[0m: name 'fav_movie' is not defined"
     ]
    }
   ],
   "source": [
    "#Accessong the element of List\n",
    "print(\"arman fav Movie:\",fav_movie[1])\n",
    "print(\"Dhirajan fav Movie:\",fav_movie[3])\n",
    "print(\"bina fav Movie:\",fav_movie[0])\n",
    "\n",
    "#find the length of list\n",
    "print(\"The length of string is:\", len(fav_movie))\n",
    "\n",
    "\n",
    "#list can contain hetrogeneous data types\n",
    "list1 =[\"apple\",\"banana\",\"orange\",\"mango\"]\n",
    "list2 =[5,10,15,20,25]\n",
    "list3=[True,False,True,False]\n",
    "list4=[\"apple\",5,True]\n",
    "print(list1)\n",
    "print(list2)\n",
    "print(list3)\n",
    "print(list4)\n",
    "\n",
    "\n",
    "#let's find the types of data types\n",
    "print(type(list4))\n",
    "\n",
    "\n",
    "#nested list\n",
    "nested_list = [\"one piece\",\"lord of rings\", [9,10]]\n",
    "print(nested_list)\n",
    "print(\"IMDB rating LOR:\",nested_list[2][1])"
   ]
  },
  {
   "cell_type": "code",
   "execution_count": 4,
   "id": "4e56804d-039f-4186-a17e-a0e682c6521e",
   "metadata": {},
   "outputs": [
    {
     "name": "stdout",
     "output_type": "stream",
     "text": [
      "{'name': 'aryan', 'module': 'Machine Learning', 'CGPA': 3.7}\n"
     ]
    }
   ],
   "source": [
    "#Dictionary\n",
    "#Creating a disctionary\n",
    "student = {\n",
    "    \"name\": \"aryan\",\n",
    "    \"module\":\"Machine Learning\",\n",
    "    \"CGPA\": 3.7\n",
    "}\n",
    "print(student)"
   ]
  },
  {
   "cell_type": "code",
   "execution_count": 5,
   "id": "89006a10-05f3-4757-a40c-29f1f5997fd2",
   "metadata": {},
   "outputs": [
    {
     "name": "stdout",
     "output_type": "stream",
     "text": [
      "Student's Name: aryan\n"
     ]
    }
   ],
   "source": [
    "# Accessing the disctionary items\n",
    "print(\"Student's Name:\", student[\"name\"])"
   ]
  },
  {
   "cell_type": "code",
   "execution_count": 6,
   "id": "983214b9-5fbb-4bdb-857c-36a3562ceede",
   "metadata": {},
   "outputs": [
    {
     "name": "stdout",
     "output_type": "stream",
     "text": [
      "{'name': 'aryan', 'module': 'Machine Learning', 'CGPA': 3.7, 'Year': 2019}\n"
     ]
    }
   ],
   "source": [
    "#Adding a new element\n",
    "student[\"Year\"] = 2019\n",
    "# print the disctionary as a string\n",
    "print(repr(student))"
   ]
  },
  {
   "cell_type": "code",
   "execution_count": 7,
   "id": "056f33f7-34eb-48af-b6d0-1a6d699b278b",
   "metadata": {},
   "outputs": [
    {
     "name": "stdout",
     "output_type": "stream",
     "text": [
      "{'name': 'aryan', 'module': 'Machine Learning', 'CGPA': 3.9, 'Year': 2019}\n"
     ]
    }
   ],
   "source": [
    "#Modifying an existing Item\n",
    "student[\"CGPA\"] = 3.9\n",
    "print(repr(student))"
   ]
  },
  {
   "cell_type": "code",
   "execution_count": 8,
   "id": "9844110e-8c04-4bcd-aecb-9a3b0195f2ab",
   "metadata": {},
   "outputs": [
    {
     "name": "stdout",
     "output_type": "stream",
     "text": [
      "{'name': 'aryan', 'module': 'Machine Learning', 'CGPA': 3.9}\n"
     ]
    }
   ],
   "source": [
    "#Deleting an item if it exitss\n",
    "if \"Year\" in student:\n",
    "    del student[\"Year\"]\n",
    "print(student)"
   ]
  },
  {
   "cell_type": "code",
   "execution_count": 9,
   "id": "b64f7036-b6c4-4518-8c63-82da0e1e1dce",
   "metadata": {},
   "outputs": [
    {
     "name": "stdout",
     "output_type": "stream",
     "text": [
      "{'name': 'Tesla', 'company': 'Tesla', 'price': 10}\n"
     ]
    }
   ],
   "source": [
    "car_dict = dict(name=\"Tesla\" ,company=\"Tesla\" , price=10)\n",
    "print(repr(car_dict))"
   ]
  },
  {
   "cell_type": "code",
   "execution_count": 12,
   "id": "3f794e9f-feb3-4480-8864-37e64208a0fd",
   "metadata": {},
   "outputs": [
    {
     "name": "stdout",
     "output_type": "stream",
     "text": [
      "\n",
      "Example 1: Comparing Values:\n",
      "is 100 smaller than 200? False\n",
      "is 50 equal to 100? False\n"
     ]
    }
   ],
   "source": [
    "#Boolean: Let's learn Boolean, Example 1\n",
    "print(\"\\nExample 1: Comparing Values:\")\n",
    "print(\"is 100 smaller than 200?\", 200<100)\n",
    "print(\"is 50 equal to 100?\", 50 == 100)"
   ]
  },
  {
   "cell_type": "code",
   "execution_count": 13,
   "id": "bb031e1f-99dc-4c3e-8224-a0be5c794d40",
   "metadata": {},
   "outputs": [
    {
     "name": "stdout",
     "output_type": "stream",
     "text": [
      "200 is greater than 5.\n"
     ]
    }
   ],
   "source": [
    "#Example 2: Find the greatest number among two\n",
    "x = 5\n",
    "y = 200\n",
    "if x > y:\n",
    "    print(f\"{x} is greater than {y}.\") \n",
    "else:\n",
    "    print(f\"{y} is greater than {x}.\")"
   ]
  },
  {
   "cell_type": "code",
   "execution_count": 16,
   "id": "d7157f5f-08a7-4608-98a1-12ee7d8e0b47",
   "metadata": {},
   "outputs": [
    {
     "name": "stdout",
     "output_type": "stream",
     "text": [
      "Is 'Hello' True? True\n",
      "Is x True? True\n",
      "Is y True? True\n"
     ]
    }
   ],
   "source": [
    "#Evaluating Values and Variables\n",
    "print(\"Is 'Hello' True?\", bool(\"Hello\"))\n",
    "x = \"Hi\"\n",
    "y = 25\n",
    "print(\"Is x True?\", bool(x))\n",
    "print(\"Is y True?\", bool(y))"
   ]
  },
  {
   "cell_type": "code",
   "execution_count": 18,
   "id": "bdbef75e-6569-4838-8f00-5778e91e2e5a",
   "metadata": {},
   "outputs": [
    {
     "name": "stdout",
     "output_type": "stream",
     "text": [
      "Is 20 even? True\n",
      "Is 15 even? False\n"
     ]
    }
   ],
   "source": [
    "#Let's practice function that returns boolean\n",
    "def is_even(num):\n",
    "    return num % 2 == 0\n",
    "print(\"Is 20 even?\", is_even(20))\n",
    "print(\"Is 15 even?\", is_even(15))"
   ]
  },
  {
   "cell_type": "code",
   "execution_count": 19,
   "id": "2150054d-6980-481b-9f86-cf4571c5d842",
   "metadata": {},
   "outputs": [
    {
     "name": "stdout",
     "output_type": "stream",
     "text": [
      "('Exhuma', 'Spider-man', 'Monalisa')\n"
     ]
    }
   ],
   "source": [
    "#Tuples\n",
    "fav_movie = (\"Exhuma\", \"Spider-man\", \"Monalisa\")\n",
    "print(fav_movie)"
   ]
  },
  {
   "cell_type": "code",
   "execution_count": 21,
   "id": "e3c6998e-3fa4-49d7-9008-edef33fe6d59",
   "metadata": {},
   "outputs": [
    {
     "name": "stdout",
     "output_type": "stream",
     "text": [
      "YoMama's fav movie is Exhuma\n",
      "Ram fav movie is Monalisa\n"
     ]
    }
   ],
   "source": [
    "#Accessing the fav movie\n",
    "print(\"YoMama's fav movie is\", fav_movie[0])\n",
    "print(\"Ram fav movie is\", fav_movie[2])"
   ]
  },
  {
   "cell_type": "code",
   "execution_count": 23,
   "id": "0d021b03-ecd3-4d89-96d0-6d7be46f6563",
   "metadata": {},
   "outputs": [
    {
     "name": "stdout",
     "output_type": "stream",
     "text": [
      "Seperate Movie: Exhuma Spider-man Monalisa\n"
     ]
    }
   ],
   "source": [
    "x, y, z = fav_movie\n",
    "print(\"Seperate Movie:\", x, y, z)"
   ]
  },
  {
   "cell_type": "code",
   "execution_count": 24,
   "id": "88c4fde5-3bb6-480a-a88d-55e3fecbe3dc",
   "metadata": {},
   "outputs": [
    {
     "name": "stdout",
     "output_type": "stream",
     "text": [
      "Exhuma\n",
      "Spider-man\n",
      "Monalisa\n"
     ]
    }
   ],
   "source": [
    "# looping\n",
    "\n",
    "for item in fav_movie:\n",
    "    print(item)"
   ]
  },
  {
   "cell_type": "code",
   "execution_count": 25,
   "id": "0cc093c7-f12e-41fc-8c99-50fedc59ab15",
   "metadata": {},
   "outputs": [
    {
     "name": "stdout",
     "output_type": "stream",
     "text": [
      "('Apple', 'Your Mom', 'Deez Nuts', 1, 10, 20)\n"
     ]
    }
   ],
   "source": [
    "#Joining the two tupples\n",
    "first_tuple = (\"Apple\", \"Your Mom\", \"Deez Nuts\")\n",
    "second_tuple = (1, 10, 20)\n",
    "joined_tuples = first_tuple + second_tuple\n",
    "print(joined_tuples)"
   ]
  },
  {
   "cell_type": "code",
   "execution_count": 27,
   "id": "36d3893b-528c-4167-9b38-2b1dcebba030",
   "metadata": {},
   "outputs": [
    {
     "name": "stdout",
     "output_type": "stream",
     "text": [
      "{'papayarrr', 'bananarrrr', 'cherryyy'}\n"
     ]
    }
   ],
   "source": [
    "#Sets\n",
    "#Creating a set\n",
    "my_first_set = {\"bananarrrr\", \"papayarrr\", \"cherryyy\"}\n",
    "print(my_first_set)"
   ]
  },
  {
   "cell_type": "code",
   "execution_count": 29,
   "id": "3270bca8-5b06-4204-914e-b3110bcd7157",
   "metadata": {},
   "outputs": [
    {
     "name": "stdout",
     "output_type": "stream",
     "text": [
      "{'orangey', 'papayarrr', 'bananarrrr', 'cherryyy'}\n"
     ]
    }
   ],
   "source": [
    "#Adding a new fruit to our set\n",
    "\n",
    "my_first_set.add(\"orangey\")\n",
    "print(my_first_set)"
   ]
  },
  {
   "cell_type": "code",
   "execution_count": 30,
   "id": "94434098-5bef-4bb1-aad8-93e5edc991a8",
   "metadata": {},
   "outputs": [
    {
     "name": "stdout",
     "output_type": "stream",
     "text": [
      "{'pinerrr', 'bananarrrr', 'orangey', 'mangerr', 'papayarrr', 'cherryyy'}\n"
     ]
    }
   ],
   "source": [
    "#Updating the set\n",
    "\n",
    "my_first_set.update([\"mangerr\", \"pinerrr\"])\n",
    "print(my_first_set)"
   ]
  },
  {
   "cell_type": "code",
   "execution_count": 31,
   "id": "a4e6ab5a-a591-435c-af7b-959447444097",
   "metadata": {},
   "outputs": [
    {
     "name": "stdout",
     "output_type": "stream",
     "text": [
      "{'pinerrr', 'bananarrrr', 'orangey', 'papayarrr', 'cherryyy'}\n"
     ]
    }
   ],
   "source": [
    "#remove the fruits from the set\n",
    "my_first_set.remove(\"mangerr\")\n",
    "print(my_first_set)"
   ]
  },
  {
   "cell_type": "code",
   "execution_count": 33,
   "id": "5dbbb191-9462-422d-bedb-05754d784fa7",
   "metadata": {},
   "outputs": [
    {
     "name": "stdout",
     "output_type": "stream",
     "text": [
      "60 is greatest number.\n"
     ]
    }
   ],
   "source": [
    "#Conditional Statements\n",
    "a = 20\n",
    "b = 40\n",
    "c = 60\n",
    "if a >= b and a >= c:\n",
    "    print(f\"{a} is greatest number.\")\n",
    "elif b >= a and b >= c:\n",
    "    print(f\"{b} is greatest number.\")\n",
    "else:\n",
    "    print(f\"{c} is greatest number.\")"
   ]
  },
  {
   "cell_type": "code",
   "execution_count": 40,
   "id": "9f1e9646-0213-409a-b7b8-51e33eb0bc3c",
   "metadata": {},
   "outputs": [
    {
     "name": "stdout",
     "output_type": "stream",
     "text": [
      "Leap Year\n"
     ]
    }
   ],
   "source": [
    "#make sure to review matrix, probability, statistics, & algebra\n",
    "\n",
    "#Leap Year\n",
    "year = 2024\n",
    "if (year % 4 == 0 and year % 100 !=0) or (year % 400 == 0):\n",
    "  print(\"Leap Year\")\n",
    "else:\n",
    "    print(\"Not Leap Year\")"
   ]
  },
  {
   "cell_type": "code",
   "execution_count": 42,
   "id": "bad659e0-ffd3-4774-ab18-53b7e31a1c8b",
   "metadata": {},
   "outputs": [
    {
     "name": "stdout",
     "output_type": "stream",
     "text": [
      "Autumn\n"
     ]
    }
   ],
   "source": [
    "#determining the season based on the month\n",
    "month = \"Sep\"\n",
    "\n",
    "if month in [\"Jan\", \"Feb\", \"March\"]:\n",
    "    print(\"Spring\")\n",
    "elif month in [\"Sep\", \"Oct\", \"Nov\"]:\n",
    "    print(\"Autumn\")\n",
    "elif month in [\"June\", \"July\", \"August\"]:\n",
    "    print(\"Summer\")"
   ]
  },
  {
   "cell_type": "code",
   "execution_count": 2,
   "id": "87b59d1e-6e45-44e0-a950-4c30a9638d71",
   "metadata": {},
   "outputs": [
    {
     "name": "stdout",
     "output_type": "stream",
     "text": [
      "\n",
      "Multiple of five:\n",
      "5\n",
      "10\n",
      "15\n",
      "20\n",
      "25\n"
     ]
    }
   ],
   "source": [
    "#Loops\n",
    "#for\n",
    "multiple_of_five = [5, 10, 15, 20, 25]\n",
    "\n",
    "print(\"\\nMultiple of five:\")\n",
    "for num in multiple_of_five:\n",
    "    print(num)"
   ]
  },
  {
   "cell_type": "code",
   "execution_count": 3,
   "id": "83d42722-e0ed-4301-a7d3-f660cf70fe2a",
   "metadata": {},
   "outputs": [
    {
     "name": "stdout",
     "output_type": "stream",
     "text": [
      "H\n",
      "i\n",
      " \n",
      "I\n",
      " \n",
      "a\n",
      "m\n",
      " \n",
      "l\n",
      "e\n",
      "a\n",
      "r\n",
      "n\n",
      "i\n",
      "n\n",
      "g\n",
      " \n",
      "P\n",
      "y\n",
      "t\n",
      "h\n",
      "o\n",
      "n\n",
      ".\n"
     ]
    }
   ],
   "source": [
    "#let's work with string\n",
    "\n",
    "string = \"Hi I am learning Python.\"\n",
    "\n",
    "for char in string:\n",
    "    print(char)"
   ]
  },
  {
   "cell_type": "code",
   "execution_count": 4,
   "id": "e32edbd7-1953-4f51-a888-c16486c92b1b",
   "metadata": {},
   "outputs": [
    {
     "name": "stdout",
     "output_type": "stream",
     "text": [
      "0\n",
      "1\n",
      "2\n",
      "3\n",
      "4\n",
      "5\n",
      "6\n",
      "7\n",
      "8\n",
      "9\n"
     ]
    }
   ],
   "source": [
    "#Let's range\n",
    "for i in range(10):\n",
    "    print(i)"
   ]
  },
  {
   "cell_type": "code",
   "execution_count": 7,
   "id": "f9bc5ccc-5b11-46f0-81ee-203a70a9e783",
   "metadata": {},
   "outputs": [
    {
     "name": "stdout",
     "output_type": "stream",
     "text": [
      "1\n",
      "2\n",
      "3\n",
      "4\n",
      "5\n",
      "6\n",
      "7\n",
      "8\n",
      "9\n",
      "1\n",
      "2\n",
      "3\n",
      "4\n"
     ]
    }
   ],
   "source": [
    "for i in range(1,10):\n",
    "    print(i)\n",
    "\n",
    "for i in range(1,5):\n",
    "    print(i)"
   ]
  },
  {
   "cell_type": "code",
   "execution_count": 10,
   "id": "58819d71-e5f9-41a2-abb1-c5581e57df86",
   "metadata": {},
   "outputs": [
    {
     "name": "stdout",
     "output_type": "stream",
     "text": [
      "0\n",
      "2\n",
      "4\n",
      "6\n",
      "8\n",
      "10\n"
     ]
    }
   ],
   "source": [
    "#Even number from 1 to 10\n",
    "for i in range(0,11,2):\n",
    "    print(i)"
   ]
  },
  {
   "cell_type": "code",
   "execution_count": 12,
   "id": "a733a817-0863-4f17-86ac-973d3458975a",
   "metadata": {},
   "outputs": [
    {
     "name": "stdout",
     "output_type": "stream",
     "text": [
      "1\n",
      "3\n",
      "5\n",
      "7\n",
      "9\n"
     ]
    }
   ],
   "source": [
    "#Odd number from 1 to 10\n",
    "for i in range(1, 11, 2):\n",
    "    print(i)"
   ]
  },
  {
   "cell_type": "code",
   "execution_count": 15,
   "id": "c07ba503-8d74-40a7-a74a-79c495ca1443",
   "metadata": {},
   "outputs": [
    {
     "name": "stdout",
     "output_type": "stream",
     "text": [
      "\n",
      "odd number from 20 - 11\n",
      "19\n",
      "17\n",
      "15\n",
      "13\n",
      "11\n"
     ]
    }
   ],
   "source": [
    "#odd number from 20 to 11\n",
    "print(\"\\nodd number from 20 - 11\")\n",
    "for i in range(19, 10, -2):\n",
    "    print(i)"
   ]
  },
  {
   "cell_type": "code",
   "execution_count": 16,
   "id": "bba30ffa-ee1b-4d49-b735-bba8ec891ad9",
   "metadata": {},
   "outputs": [
    {
     "name": "stdout",
     "output_type": "stream",
     "text": [
      "Avatar : 9\n",
      "Annihilation : 10\n",
      "Little Women : 9\n"
     ]
    }
   ],
   "source": [
    "#let's use dictionary\n",
    " \n",
    "fav_movie = {\"Avatar\" : 9,\n",
    "            \"Annihilation\" : 10,\n",
    "            \"Little Women\" : 9}\n",
    "\n",
    "for key, value in fav_movie.items():\n",
    "    print(key, \":\", value)"
   ]
  },
  {
   "cell_type": "code",
   "execution_count": 18,
   "id": "0110e62f-f371-495c-b698-e31aa0fe5ec5",
   "metadata": {},
   "outputs": [
    {
     "name": "stdout",
     "output_type": "stream",
     "text": [
      "\n",
      "Elements of Fruits Tuple.\n",
      "('Apple', 10)\n",
      "('Banana', 12)\n",
      "('Cherry', 15)\n"
     ]
    }
   ],
   "source": [
    "#Let's learn Loop with Tuple\n",
    "\n",
    "fruits = [(\"Apple\", 10), (\"Banana\", 12), (\"Cherry\", 15)]\n",
    "print(\"\\nElements of Fruits Tuple.\")\n",
    "for item in fruits:\n",
    "    print(item)"
   ]
  },
  {
   "cell_type": "code",
   "execution_count": 19,
   "id": "f8a94f5d-85c2-4d0e-8ea9-3e5d4376b677",
   "metadata": {},
   "outputs": [
    {
     "name": "stdout",
     "output_type": "stream",
     "text": [
      "character: Apple | Quantity: 10\n",
      "character: Banana | Quantity: 12\n",
      "character: Cherry | Quantity: 15\n"
     ]
    }
   ],
   "source": [
    "#let's seperate each elements from tuple fruits\n",
    "\n",
    "for char, num in fruits:\n",
    "    print(\"character:\", char, \"| Quantity:\", num)"
   ]
  },
  {
   "cell_type": "code",
   "execution_count": 21,
   "id": "71d3064c-c6c3-434c-ad96-01d4e4d87b5c",
   "metadata": {},
   "outputs": [
    {
     "name": "stdout",
     "output_type": "stream",
     "text": [
      "1\n",
      "2\n",
      "3\n",
      "4\n",
      "5\n",
      "6\n",
      "7\n",
      "8\n",
      "9\n",
      "10\n"
     ]
    }
   ],
   "source": [
    "#While Loop \n",
    "#remember the for and while loop differences\n",
    "\n",
    "count = 1\n",
    "while count <= 10:\n",
    "    print(count)\n",
    "    count += 1"
   ]
  },
  {
   "cell_type": "code",
   "execution_count": 26,
   "id": "2fca2dec-be2e-450a-988e-73ec64dc4c5c",
   "metadata": {},
   "outputs": [
    {
     "name": "stdout",
     "output_type": "stream",
     "text": [
      "\n",
      "The sum of number from 1 - 10 = 55\n"
     ]
    }
   ],
   "source": [
    "#find the sum of numbers 1-10 using while loop\n",
    "\n",
    "sum = 0\n",
    "num = 1\n",
    "while num <= 10:\n",
    "    sum += num\n",
    "    num += 1\n",
    "print(\"\\nThe sum of number from 1 - 10 =\", sum)"
   ]
  },
  {
   "cell_type": "code",
   "execution_count": 28,
   "id": "f6df83f3-6e56-41fd-8e5b-33e44e74c2a7",
   "metadata": {},
   "outputs": [
    {
     "name": "stdout",
     "output_type": "stream",
     "text": [
      "The sum of number from 1 to 10 even numbers = 30\n"
     ]
    }
   ],
   "source": [
    "#Find the sum of number from 1 to 10 even numbers only.\n",
    "\n",
    "sum = 0\n",
    "num = 1\n",
    "while num <= 10:\n",
    "    if num % 2 == 0:\n",
    "        sum += num\n",
    "    num += 1\n",
    "print(\"The sum of number from 1 to 10 even numbers =\", sum)"
   ]
  },
  {
   "cell_type": "code",
   "execution_count": 29,
   "id": "ec43fa37-8bd1-4b31-8854-9b7f379ea711",
   "metadata": {},
   "outputs": [
    {
     "name": "stdout",
     "output_type": "stream",
     "text": [
      "2\n",
      "4\n",
      "6\n",
      "8\n",
      "10\n"
     ]
    }
   ],
   "source": [
    "#find the even number from 1 to 10 using while loop.\n",
    "\n",
    "sum = 0 \n",
    "num = 1\n",
    "while num <= 10:\n",
    "    if num % 2 == 0:\n",
    "        print(num)\n",
    "    num += 1"
   ]
  },
  {
   "cell_type": "code",
   "execution_count": 34,
   "id": "87476c01-f374-4ea1-8bc2-97e0b65248d2",
   "metadata": {},
   "outputs": [
    {
     "name": "stdout",
     "output_type": "stream",
     "text": [
      "Factorial of 5 is 1\n"
     ]
    }
   ],
   "source": [
    " #find the factorial of 5.\n",
    "\n",
    "number = 5\n",
    "factorial = 1\n",
    "while number > 0:\n",
    "    factorial * number\n",
    "    number -= 1\n",
    "print(\"Factorial of 5 is\", factorial)"
   ]
  },
  {
   "cell_type": "code",
   "execution_count": 35,
   "id": "53388678-3eb8-475a-9b9a-c7f65795ca4e",
   "metadata": {},
   "outputs": [
    {
     "name": "stdout",
     "output_type": "stream",
     "text": [
      "milF\n"
     ]
    }
   ],
   "source": [
    "#Reverse the string.\n",
    "\n",
    "string = \"Flim\" [::-1]\n",
    "\n",
    "print(string)\n",
    "\n"
   ]
  },
  {
   "cell_type": "code",
   "execution_count": 36,
   "id": "29b4bdb6-09f1-4bd9-b572-ba389bc6c76e",
   "metadata": {},
   "outputs": [
    {
     "name": "stdout",
     "output_type": "stream",
     "text": [
      "sup\n"
     ]
    }
   ],
   "source": [
    "#Function\n",
    "\n",
    "def greet():\n",
    "    print(\"sup\")\n",
    "greet()"
   ]
  },
  {
   "cell_type": "code",
   "execution_count": null,
   "id": "0075e535-5719-442f-9267-364609bc6111",
   "metadata": {},
   "outputs": [],
   "source": []
  }
 ],
 "metadata": {
  "kernelspec": {
   "display_name": "Python 3 (ipykernel)",
   "language": "python",
   "name": "python3"
  },
  "language_info": {
   "codemirror_mode": {
    "name": "ipython",
    "version": 3
   },
   "file_extension": ".py",
   "mimetype": "text/x-python",
   "name": "python",
   "nbconvert_exporter": "python",
   "pygments_lexer": "ipython3",
   "version": "3.11.7"
  }
 },
 "nbformat": 4,
 "nbformat_minor": 5
}
