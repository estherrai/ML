{
 "cells": [
  {
   "cell_type": "code",
   "execution_count": 1,
   "id": "484688e2-f5d9-4c0a-8d93-e994de7b1699",
   "metadata": {},
   "outputs": [
    {
     "name": "stdout",
     "output_type": "stream",
     "text": [
      "Let's fucking do it!\n"
     ]
    }
   ],
   "source": [
    "#Print Statements\n",
    "print(\"Let's fucking do it!\")"
   ]
  },
  {
   "cell_type": "code",
   "execution_count": 2,
   "id": "e555ed09-3be7-4062-bc6f-268643350a7a",
   "metadata": {},
   "outputs": [
    {
     "name": "stdout",
     "output_type": "stream",
     "text": [
      "19\n",
      "YoMama\n"
     ]
    }
   ],
   "source": [
    "#Creating two variables and printing them\n",
    "x = 19\n",
    "y = \"YoMama\"\n",
    "print(x)\n",
    "print(y)"
   ]
  },
  {
   "cell_type": "code",
   "execution_count": 3,
   "id": "50bfb113-4c19-46ac-91ce-7aad1c345b29",
   "metadata": {},
   "outputs": [
    {
     "name": "stdout",
     "output_type": "stream",
     "text": [
      "YoMama is 19 years old.\n"
     ]
    }
   ],
   "source": [
    "#Printing the statement with string formatting\n",
    "print(f\"{y} is {x} years old.\")"
   ]
  },
  {
   "cell_type": "code",
   "execution_count": null,
   "id": "931a3515-16c8-421b-afd4-61afb3fa81ca",
   "metadata": {},
   "outputs": [],
   "source": []
  }
 ],
 "metadata": {
  "kernelspec": {
   "display_name": "Python 3 (ipykernel)",
   "language": "python",
   "name": "python3"
  },
  "language_info": {
   "codemirror_mode": {
    "name": "ipython",
    "version": 3
   },
   "file_extension": ".py",
   "mimetype": "text/x-python",
   "name": "python",
   "nbconvert_exporter": "python",
   "pygments_lexer": "ipython3",
   "version": "3.11.7"
  }
 },
 "nbformat": 4,
 "nbformat_minor": 5
}
