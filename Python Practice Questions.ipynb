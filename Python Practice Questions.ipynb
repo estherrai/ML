{
 "cells": [
  {
   "cell_type": "code",
   "execution_count": 5,
   "id": "064703f8-f060-43fc-a6eb-ff5e42ac3e02",
   "metadata": {},
   "outputs": [
    {
     "name": "stdout",
     "output_type": "stream",
     "text": [
      "Ayo, my name is Esther Rai\n"
     ]
    }
   ],
   "source": [
    "# 1. Write a Python program that prints your name to the console.\n",
    "print(\"Ayo, my name is Esther Rai\")"
   ]
  },
  {
   "cell_type": "code",
   "execution_count": 3,
   "id": "d461bc9b-858a-48f2-94bf-e7eb51849ec1",
   "metadata": {},
   "outputs": [
    {
     "name": "stdout",
     "output_type": "stream",
     "text": [
      "66\n"
     ]
    }
   ],
   "source": [
    "# 2. Create a Python script that takes two numbers as input from the user and prints their sum.\n",
    "x = 22\n",
    "y = 44\n",
    "print(x + y)"
   ]
  },
  {
   "cell_type": "code",
   "execution_count": 4,
   "id": "9cae07cb-b2d0-4ef6-8f7c-faadcc2a45ca",
   "metadata": {},
   "outputs": [
    {
     "name": "stdout",
     "output_type": "stream",
     "text": [
      "6.5\n"
     ]
    }
   ],
   "source": [
    "# 3. Modify the script from Q. 2 to print the result with two decimal places.\n",
    "x = 2.0\n",
    "y = 4.5\n",
    "print(x + y)"
   ]
  },
  {
   "cell_type": "code",
   "execution_count": 6,
   "id": "366ffdaa-24da-4b4b-9931-ed8c7379ed99",
   "metadata": {},
   "outputs": [
    {
     "name": "stdout",
     "output_type": "stream",
     "text": [
      "0\n",
      "1\n",
      "1\n",
      "2\n",
      "3\n",
      "5\n",
      "8\n",
      "13\n",
      "21\n",
      "34\n"
     ]
    }
   ],
   "source": [
    "# 4. Write a Python program that prints the first 10 Fibonacci numbers.\n",
    "x, y = 0, 1\n",
    "for _ in range(10):\n",
    "    print(x)\n",
    "    x, y = y, x + y"
   ]
  },
  {
   "cell_type": "code",
   "execution_count": null,
   "id": "fbca5325-a773-4f4d-a295-579bcfc74cc8",
   "metadata": {},
   "outputs": [],
   "source": [
    "# 5. Create a Python script that prints a multiplication table for a given number up to 10.\n",
    "\n",
    "x = 5\n",
    "for x in range()print()"
   ]
  }
 ],
 "metadata": {
  "kernelspec": {
   "display_name": "Python 3 (ipykernel)",
   "language": "python",
   "name": "python3"
  },
  "language_info": {
   "codemirror_mode": {
    "name": "ipython",
    "version": 3
   },
   "file_extension": ".py",
   "mimetype": "text/x-python",
   "name": "python",
   "nbconvert_exporter": "python",
   "pygments_lexer": "ipython3",
   "version": "3.11.7"
  }
 },
 "nbformat": 4,
 "nbformat_minor": 5
}
