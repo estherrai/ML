{
 "cells": [
  {
   "cell_type": "code",
   "execution_count": 2,
   "id": "a92259d2-3fe3-4c6d-a107-551932107d7d",
   "metadata": {},
   "outputs": [
    {
     "name": "stdout",
     "output_type": "stream",
     "text": [
      "^C\n",
      "Note: you may need to restart the kernel to use updated packages.\n",
      "Defaulting to user installation because normal site-packages is not writeable\n",
      "Requirement already satisfied: pandas in d:\\anaconda\\lib\\site-packages (2.1.4)\n",
      "Requirement already satisfied: numpy<2,>=1.23.2 in d:\\anaconda\\lib\\site-packages (from pandas) (1.26.4)\n",
      "Requirement already satisfied: python-dateutil>=2.8.2 in d:\\anaconda\\lib\\site-packages (from pandas) (2.8.2)\n",
      "Requirement already satisfied: pytz>=2020.1 in d:\\anaconda\\lib\\site-packages (from pandas) (2023.3.post1)\n",
      "Requirement already satisfied: tzdata>=2022.1 in d:\\anaconda\\lib\\site-packages (from pandas) (2023.3)\n",
      "Requirement already satisfied: six>=1.5 in d:\\anaconda\\lib\\site-packages (from python-dateutil>=2.8.2->pandas) (1.16.0)\n"
     ]
    }
   ],
   "source": [
    "pip install pandas"
   ]
  },
  {
   "cell_type": "code",
   "execution_count": 1,
   "id": "32cbeef0-6d05-48aa-9c96-864f02858437",
   "metadata": {},
   "outputs": [],
   "source": [
    "import pandas as pd"
   ]
  },
  {
   "cell_type": "code",
   "execution_count": 5,
   "id": "2d565a30-c0d2-4fe2-9b27-7286bdf37157",
   "metadata": {},
   "outputs": [
    {
     "name": "stdout",
     "output_type": "stream",
     "text": [
      "Series from the list is:\n",
      " 0    10\n",
      "1    20\n",
      "2    30\n",
      "3    40\n",
      "4    50\n",
      "5    60\n",
      "dtype: int64\n"
     ]
    }
   ],
   "source": [
    "#Pandas is a fast, powerful, flexible, and easy to use open source data analysis and manipulation tool, built on top of the Python programming language.\n",
    "\n",
    "#Series is a one-dimensional labeled array that can hold any data type, and is similar to a column in a spreadsheet or SQL table.\n",
    "#This is the basic level\n",
    "\n",
    "#create a series from a list\n",
    "\n",
    "data_list = [10, 20, 30, 40, 50, 60]\n",
    "series_from_list = pd.Series(data_list)\n",
    "print(\"Series from the list is:\\n\", series_from_list)\n"
   ]
  },
  {
   "cell_type": "code",
   "execution_count": 6,
   "id": "76cf26ab-b0a7-417e-a7dc-a20a961936d5",
   "metadata": {},
   "outputs": [
    {
     "name": "stdout",
     "output_type": "stream",
     "text": [
      "Abdomen    12\n",
      "Kidney     10\n",
      "China       5\n",
      "dtype: int64\n"
     ]
    }
   ],
   "source": [
    "#create a series from dictionary\n",
    "\n",
    "data_dict = {\n",
    "    \"Abdomen\" : 12,\n",
    "    \"Kidney\" : 10,\n",
    "    \"China\" : 5\n",
    "}\n",
    "series_from_dict = pd.Series(data_dict)\n",
    "print(series_from_dict)"
   ]
  },
  {
   "cell_type": "code",
   "execution_count": 7,
   "id": "3cf09e42-aca5-4f52-b255-ac3dbd13aa90",
   "metadata": {},
   "outputs": [
    {
     "name": "stdout",
     "output_type": "stream",
     "text": [
      "0    120\n",
      "1    230\n",
      "2    304\n",
      "3    450\n",
      "4    500\n",
      "dtype: int32\n"
     ]
    }
   ],
   "source": [
    "import numpy as np\n",
    "\n",
    "#Creating a series from an NumPy array\n",
    "\n",
    "data_array = np.array([120, 230, 304, 450, 500])\n",
    "series_from_array = pd.Series(data_array)\n",
    "print(series_from_array)"
   ]
  },
  {
   "cell_type": "code",
   "execution_count": 10,
   "id": "ff0cbdd9-1ed1-4608-926d-32048df07493",
   "metadata": {},
   "outputs": [
    {
     "name": "stdout",
     "output_type": "stream",
     "text": [
      "5\n",
      "30\n"
     ]
    }
   ],
   "source": [
    "data_list = [5, 10, 15, 20, 25, 30]\n",
    "series_from_list = pd.Series(data_list)\n",
    "\n",
    "#assessing the value using integer as index\n",
    "print(series_from_list[0])\n",
    "print(series_from_list[5])"
   ]
  },
  {
   "cell_type": "code",
   "execution_count": 12,
   "id": "8624fe7b-4f27-479e-af82-3515394939b1",
   "metadata": {},
   "outputs": [
    {
     "name": "stdout",
     "output_type": "stream",
     "text": [
      "5\n",
      "25\n"
     ]
    }
   ],
   "source": [
    "#Accessing values using labels\n",
    "series_with_labels = pd.Series(data_list, index = ['a', 'b', 'c', 'd', 'e', 'f'])\n",
    "print(series_with_labels ['a'])\n",
    "print(series_with_labels['e'])"
   ]
  },
  {
   "cell_type": "code",
   "execution_count": 16,
   "id": "d4eef48c-a13f-4312-b492-186eec9a3be0",
   "metadata": {},
   "outputs": [
    {
     "name": "stdout",
     "output_type": "stream",
     "text": [
      "[ 5 10 15 20 25 30]\n",
      "\n",
      "Index(['a', 'b', 'c', 'd', 'e', 'f'], dtype='object')\n"
     ]
    }
   ],
   "source": [
    "#getting the values/attributes of the series\n",
    "print(series_from_list.values)\n",
    "print()\n",
    "\n",
    "#getting the index from series\n",
    "print(series_with_labels.index)"
   ]
  },
  {
   "cell_type": "code",
   "execution_count": 17,
   "id": "fb132af8-198c-4aea-9844-8cb45c124375",
   "metadata": {},
   "outputs": [
    {
     "name": "stdout",
     "output_type": "stream",
     "text": [
      "   A   B   C\n",
      "0  1  20  90\n",
      "1  2  30  30\n",
      "2  3  40  40\n",
      "3  4  50  50\n"
     ]
    }
   ],
   "source": [
    "#DataFrame is a two-dimensional labeled data structure, similar to spreadsheet or SQL table, with rows and columns.\n",
    "#Chap 2\n",
    "\n",
    "import pandas as pd\n",
    "\n",
    "#Create a dataframe from a dictionary\n",
    "\n",
    "data_dict = {\n",
    "    'A':[1,2,3,4],\n",
    "    'B':[20,30,40,50],\n",
    "    'C':[90,30,40,50]\n",
    "}\n",
    "df_from_dict = pd.DataFrame(data_dict)\n",
    "print(df_from_dict)"
   ]
  },
  {
   "cell_type": "code",
   "execution_count": 18,
   "id": "1f9b8c8f-d10c-483f-b434-14beee54a596",
   "metadata": {},
   "outputs": [
    {
     "name": "stdout",
     "output_type": "stream",
     "text": [
      "    A   B   C\n",
      "0   1   2   3\n",
      "1  20  30  40\n",
      "2  45  34  70\n"
     ]
    }
   ],
   "source": [
    "#Create a DataFrame from a list of dictionaries\n",
    "\n",
    "data_list_of_dict = [\n",
    "    {'A':1, 'B':2, 'C':3},\n",
    "    {'A':20, 'B':30, 'C':40},\n",
    "    {'A':45, 'B':34, 'C':70}\n",
    "]\n",
    "\n",
    "df_from_list_of_dict = pd.DataFrame(data_list_of_dict)\n",
    "print(df_from_list_of_dict)"
   ]
  },
  {
   "cell_type": "code",
   "execution_count": 20,
   "id": "938c3802-e0bb-4666-acf1-ad78af6cd7f3",
   "metadata": {},
   "outputs": [
    {
     "name": "stdout",
     "output_type": "stream",
     "text": [
      "    A   B    C\n",
      "0  10  50   90\n",
      "1  20  60  100\n",
      "2  30  70  110\n",
      "3  40  80  120\n"
     ]
    }
   ],
   "source": [
    "#Create a DataFrame from multiple Series\n",
    "\n",
    "series_A = pd.Series([10, 20, 30, 40])\n",
    "series_B = pd.Series([50, 60, 70, 80])\n",
    "series_C = pd.Series([90, 100, 110, 120])\n",
    "\n",
    "df_from_series = pd.DataFrame({\n",
    "    'A':series_A,\n",
    "    'B':series_B,\n",
    "    'C':series_C\n",
    "})\n",
    "\n",
    "print(df_from_series)\n"
   ]
  },
  {
   "cell_type": "code",
   "execution_count": 21,
   "id": "71c72642-7ee9-4dfe-9b4a-8183d41c2d25",
   "metadata": {},
   "outputs": [
    {
     "name": "stdout",
     "output_type": "stream",
     "text": [
      "    A    B    C\n",
      "0   1   10   20\n",
      "1  20   30   40\n",
      "2  50   50   70\n",
      "3  90  100  200\n"
     ]
    }
   ],
   "source": [
    "import numpy as np\n",
    "\n",
    "#Create a DataFrame from a NumPy array\n",
    "data_array = np.array([\n",
    "    [1, 10, 20],\n",
    "    [20, 30, 40],\n",
    "    [50, 50, 70],\n",
    "    [90, 100, 200]\n",
    "])\n",
    "df_from_array = pd.DataFrame(data_array, columns = ['A', 'B', 'C'])\n",
    "print(df_from_array)"
   ]
  },
  {
   "cell_type": "code",
   "execution_count": 23,
   "id": "307d2153-a0f3-4251-b618-52ca9e9703fd",
   "metadata": {},
   "outputs": [
    {
     "name": "stdout",
     "output_type": "stream",
     "text": [
      "(4, 3)\n",
      "Index(['A', 'B', 'C'], dtype='object')\n",
      "RangeIndex(start=0, stop=4, step=1)\n"
     ]
    }
   ],
   "source": [
    "#Display the structure of the DataFrame\n",
    "\n",
    "print(df_from_array.shape)\n",
    "print(df_from_array.columns)\n",
    "print(df_from_array.index)"
   ]
  },
  {
   "cell_type": "code",
   "execution_count": 11,
   "id": "642544f9-ec00-488c-be8d-328e8d45f63c",
   "metadata": {},
   "outputs": [
    {
     "name": "stdout",
     "output_type": "stream",
     "text": [
      "0     1\n",
      "1    20\n",
      "2    50\n",
      "3    90\n",
      "Name: A, dtype: int32\n"
     ]
    },
    {
     "ename": "KeyError",
     "evalue": "('A', 'B')",
     "output_type": "error",
     "traceback": [
      "\u001b[1;31m---------------------------------------------------------------------------\u001b[0m",
      "\u001b[1;31mKeyError\u001b[0m                                  Traceback (most recent call last)",
      "File \u001b[1;32mD:\\Anaconda\\Lib\\site-packages\\pandas\\core\\indexes\\base.py:3791\u001b[0m, in \u001b[0;36mIndex.get_loc\u001b[1;34m(self, key)\u001b[0m\n\u001b[0;32m   3790\u001b[0m \u001b[38;5;28;01mtry\u001b[39;00m:\n\u001b[1;32m-> 3791\u001b[0m     \u001b[38;5;28;01mreturn\u001b[39;00m \u001b[38;5;28mself\u001b[39m\u001b[38;5;241m.\u001b[39m_engine\u001b[38;5;241m.\u001b[39mget_loc(casted_key)\n\u001b[0;32m   3792\u001b[0m \u001b[38;5;28;01mexcept\u001b[39;00m \u001b[38;5;167;01mKeyError\u001b[39;00m \u001b[38;5;28;01mas\u001b[39;00m err:\n",
      "File \u001b[1;32mindex.pyx:152\u001b[0m, in \u001b[0;36mpandas._libs.index.IndexEngine.get_loc\u001b[1;34m()\u001b[0m\n",
      "File \u001b[1;32mindex.pyx:181\u001b[0m, in \u001b[0;36mpandas._libs.index.IndexEngine.get_loc\u001b[1;34m()\u001b[0m\n",
      "File \u001b[1;32mpandas\\_libs\\hashtable_class_helper.pxi:7080\u001b[0m, in \u001b[0;36mpandas._libs.hashtable.PyObjectHashTable.get_item\u001b[1;34m()\u001b[0m\n",
      "File \u001b[1;32mpandas\\_libs\\hashtable_class_helper.pxi:7088\u001b[0m, in \u001b[0;36mpandas._libs.hashtable.PyObjectHashTable.get_item\u001b[1;34m()\u001b[0m\n",
      "\u001b[1;31mKeyError\u001b[0m: ('A', 'B')",
      "\nThe above exception was the direct cause of the following exception:\n",
      "\u001b[1;31mKeyError\u001b[0m                                  Traceback (most recent call last)",
      "Cell \u001b[1;32mIn[11], line 4\u001b[0m\n\u001b[0;32m      1\u001b[0m \u001b[38;5;66;03m#Accessing the data using columns names:\u001b[39;00m\n\u001b[0;32m      3\u001b[0m \u001b[38;5;28mprint\u001b[39m(df_from_array [\u001b[38;5;124m'\u001b[39m\u001b[38;5;124mA\u001b[39m\u001b[38;5;124m'\u001b[39m])\n\u001b[1;32m----> 4\u001b[0m \u001b[38;5;28mprint\u001b[39m(df_from_array[\u001b[38;5;124m'\u001b[39m\u001b[38;5;124mA\u001b[39m\u001b[38;5;124m'\u001b[39m, \u001b[38;5;124m'\u001b[39m\u001b[38;5;124mB\u001b[39m\u001b[38;5;124m'\u001b[39m])\n",
      "File \u001b[1;32mD:\\Anaconda\\Lib\\site-packages\\pandas\\core\\frame.py:3893\u001b[0m, in \u001b[0;36mDataFrame.__getitem__\u001b[1;34m(self, key)\u001b[0m\n\u001b[0;32m   3891\u001b[0m \u001b[38;5;28;01mif\u001b[39;00m \u001b[38;5;28mself\u001b[39m\u001b[38;5;241m.\u001b[39mcolumns\u001b[38;5;241m.\u001b[39mnlevels \u001b[38;5;241m>\u001b[39m \u001b[38;5;241m1\u001b[39m:\n\u001b[0;32m   3892\u001b[0m     \u001b[38;5;28;01mreturn\u001b[39;00m \u001b[38;5;28mself\u001b[39m\u001b[38;5;241m.\u001b[39m_getitem_multilevel(key)\n\u001b[1;32m-> 3893\u001b[0m indexer \u001b[38;5;241m=\u001b[39m \u001b[38;5;28mself\u001b[39m\u001b[38;5;241m.\u001b[39mcolumns\u001b[38;5;241m.\u001b[39mget_loc(key)\n\u001b[0;32m   3894\u001b[0m \u001b[38;5;28;01mif\u001b[39;00m is_integer(indexer):\n\u001b[0;32m   3895\u001b[0m     indexer \u001b[38;5;241m=\u001b[39m [indexer]\n",
      "File \u001b[1;32mD:\\Anaconda\\Lib\\site-packages\\pandas\\core\\indexes\\base.py:3798\u001b[0m, in \u001b[0;36mIndex.get_loc\u001b[1;34m(self, key)\u001b[0m\n\u001b[0;32m   3793\u001b[0m     \u001b[38;5;28;01mif\u001b[39;00m \u001b[38;5;28misinstance\u001b[39m(casted_key, \u001b[38;5;28mslice\u001b[39m) \u001b[38;5;129;01mor\u001b[39;00m (\n\u001b[0;32m   3794\u001b[0m         \u001b[38;5;28misinstance\u001b[39m(casted_key, abc\u001b[38;5;241m.\u001b[39mIterable)\n\u001b[0;32m   3795\u001b[0m         \u001b[38;5;129;01mand\u001b[39;00m \u001b[38;5;28many\u001b[39m(\u001b[38;5;28misinstance\u001b[39m(x, \u001b[38;5;28mslice\u001b[39m) \u001b[38;5;28;01mfor\u001b[39;00m x \u001b[38;5;129;01min\u001b[39;00m casted_key)\n\u001b[0;32m   3796\u001b[0m     ):\n\u001b[0;32m   3797\u001b[0m         \u001b[38;5;28;01mraise\u001b[39;00m InvalidIndexError(key)\n\u001b[1;32m-> 3798\u001b[0m     \u001b[38;5;28;01mraise\u001b[39;00m \u001b[38;5;167;01mKeyError\u001b[39;00m(key) \u001b[38;5;28;01mfrom\u001b[39;00m \u001b[38;5;21;01merr\u001b[39;00m\n\u001b[0;32m   3799\u001b[0m \u001b[38;5;28;01mexcept\u001b[39;00m \u001b[38;5;167;01mTypeError\u001b[39;00m:\n\u001b[0;32m   3800\u001b[0m     \u001b[38;5;66;03m# If we have a listlike key, _check_indexing_error will raise\u001b[39;00m\n\u001b[0;32m   3801\u001b[0m     \u001b[38;5;66;03m#  InvalidIndexError. Otherwise we fall through and re-raise\u001b[39;00m\n\u001b[0;32m   3802\u001b[0m     \u001b[38;5;66;03m#  the TypeError.\u001b[39;00m\n\u001b[0;32m   3803\u001b[0m     \u001b[38;5;28mself\u001b[39m\u001b[38;5;241m.\u001b[39m_check_indexing_error(key)\n",
      "\u001b[1;31mKeyError\u001b[0m: ('A', 'B')"
     ]
    }
   ],
   "source": [
    "#Accessing the data using columns names:\n",
    "\n",
    "print(df_from_array ['A'])\n",
    "print(df_from_array['A', 'B'])"
   ]
  },
  {
   "cell_type": "code",
   "execution_count": 10,
   "id": "690f6676-381e-4b4d-b6a0-b1747246cffe",
   "metadata": {},
   "outputs": [
    {
     "name": "stdout",
     "output_type": "stream",
     "text": [
      "A     1\n",
      "B    10\n",
      "C    20\n",
      "Name: 0, dtype: int32\n",
      "\n",
      "A    20\n",
      "B    30\n",
      "C    40\n",
      "Name: 1, dtype: int32\n",
      "\n",
      "    A   B   C\n",
      "0   1  10  20\n",
      "1  20  30  40\n",
      "\n",
      "    A   B   C\n",
      "0   1  10  20\n",
      "1  20  30  40\n",
      "2  50  50  70\n"
     ]
    }
   ],
   "source": [
    "#Access data using row label\n",
    "print(df_from_array.iloc[0])\n",
    "print()\n",
    "print(df_from_array.iloc[1])\n",
    "print()\n",
    "print(df_from_array.iloc[0:2])\n",
    "print()\n",
    "print(df_from_array.loc[0:2])"
   ]
  },
  {
   "cell_type": "code",
   "execution_count": 12,
   "id": "1444dbae-92d2-4639-8c86-3b8d104bbe6d",
   "metadata": {},
   "outputs": [
    {
     "name": "stdout",
     "output_type": "stream",
     "text": [
      "A    int32\n",
      "B    int32\n",
      "C    int32\n",
      "dtype: object\n"
     ]
    }
   ],
   "source": [
    "#data ko types herna\n",
    "print(df_from_array.dtypes)"
   ]
  },
  {
   "cell_type": "code",
   "execution_count": 13,
   "id": "014a7e29-fc19-479a-800c-786c8a9418c2",
   "metadata": {},
   "outputs": [
    {
     "name": "stdout",
     "output_type": "stream",
     "text": [
      "    A    B    C\n",
      "0   1   10   20\n",
      "1  20   30   40\n",
      "2  50   50   70\n",
      "3  90  100  200\n"
     ]
    }
   ],
   "source": [
    "import numpy as np\n",
    "\n",
    "#Create a DataFrame from a NumPy array\n",
    "data_array = np.array([\n",
    "    [1, 10, 20],\n",
    "    [20, 30, 40],\n",
    "    [50, 50, 70],\n",
    "    [90, 100, 200]\n",
    "])\n",
    "df_from_array = pd.DataFrame(data_array, columns = ['A', 'B', 'C'])\n",
    "print(df_from_array)"
   ]
  },
  {
   "cell_type": "code",
   "execution_count": 14,
   "id": "d3929e18-1d5d-4a75-856a-e0183bbca690",
   "metadata": {},
   "outputs": [
    {
     "name": "stdout",
     "output_type": "stream",
     "text": [
      "    A    B    C    D\n",
      "0   1   10   20  100\n",
      "1  20   30   40  200\n",
      "2  50   50   70  300\n",
      "3  90  100  200  400\n"
     ]
    }
   ],
   "source": [
    "#adding a one column in the given datasets\n",
    "df_from_array['D'] = [100,200,300,400]\n",
    "print(df_from_array)"
   ]
  },
  {
   "cell_type": "code",
   "execution_count": 15,
   "id": "77b52697-dd53-4239-9e28-ce85edbf4feb",
   "metadata": {},
   "outputs": [
    {
     "name": "stdout",
     "output_type": "stream",
     "text": [
      "     B    C    D\n",
      "0   10   20  100\n",
      "1   30   40  200\n",
      "2   50   70  300\n",
      "3  100  200  400\n"
     ]
    }
   ],
   "source": [
    "#dropping a column from DataFrame\n",
    "\n",
    "df_from_array = df_from_array.drop(columns = ['A'])\n",
    "print(df_from_array)"
   ]
  },
  {
   "cell_type": "code",
   "execution_count": 18,
   "id": "02aa681a-a6ed-4f78-baf4-535f21dad18e",
   "metadata": {},
   "outputs": [
    {
     "name": "stdout",
     "output_type": "stream",
     "text": [
      "     B    C    D\n",
      "2   50   70  300\n",
      "3  100  200  400\n"
     ]
    }
   ],
   "source": [
    "#Filtering the rows based on a condititon: 'B' > 30\n",
    "\n",
    "filtered_df = df_from_array[df_from_array['B'] > 30]\n",
    "print(filtered_df)"
   ]
  },
  {
   "cell_type": "code",
   "execution_count": 22,
   "id": "a930bb45-fb53-45a2-93f2-f84ca15ec8b2",
   "metadata": {},
   "outputs": [
    {
     "ename": "KeyError",
     "evalue": "'AA'",
     "output_type": "error",
     "traceback": [
      "\u001b[1;31m---------------------------------------------------------------------------\u001b[0m",
      "\u001b[1;31mKeyError\u001b[0m                                  Traceback (most recent call last)",
      "File \u001b[1;32mD:\\Anaconda\\Lib\\site-packages\\pandas\\core\\indexes\\base.py:3791\u001b[0m, in \u001b[0;36mIndex.get_loc\u001b[1;34m(self, key)\u001b[0m\n\u001b[0;32m   3790\u001b[0m \u001b[38;5;28;01mtry\u001b[39;00m:\n\u001b[1;32m-> 3791\u001b[0m     \u001b[38;5;28;01mreturn\u001b[39;00m \u001b[38;5;28mself\u001b[39m\u001b[38;5;241m.\u001b[39m_engine\u001b[38;5;241m.\u001b[39mget_loc(casted_key)\n\u001b[0;32m   3792\u001b[0m \u001b[38;5;28;01mexcept\u001b[39;00m \u001b[38;5;167;01mKeyError\u001b[39;00m \u001b[38;5;28;01mas\u001b[39;00m err:\n",
      "File \u001b[1;32mindex.pyx:152\u001b[0m, in \u001b[0;36mpandas._libs.index.IndexEngine.get_loc\u001b[1;34m()\u001b[0m\n",
      "File \u001b[1;32mindex.pyx:181\u001b[0m, in \u001b[0;36mpandas._libs.index.IndexEngine.get_loc\u001b[1;34m()\u001b[0m\n",
      "File \u001b[1;32mpandas\\_libs\\hashtable_class_helper.pxi:7080\u001b[0m, in \u001b[0;36mpandas._libs.hashtable.PyObjectHashTable.get_item\u001b[1;34m()\u001b[0m\n",
      "File \u001b[1;32mpandas\\_libs\\hashtable_class_helper.pxi:7088\u001b[0m, in \u001b[0;36mpandas._libs.hashtable.PyObjectHashTable.get_item\u001b[1;34m()\u001b[0m\n",
      "\u001b[1;31mKeyError\u001b[0m: 'AA'",
      "\nThe above exception was the direct cause of the following exception:\n",
      "\u001b[1;31mKeyError\u001b[0m                                  Traceback (most recent call last)",
      "Cell \u001b[1;32mIn[22], line 4\u001b[0m\n\u001b[0;32m      1\u001b[0m \u001b[38;5;66;03m#Performing vectorized operations on DataFrame\u001b[39;00m\n\u001b[0;32m      2\u001b[0m \u001b[38;5;66;03m#Series with values in column 'A' multiplied by 2\u001b[39;00m\n\u001b[1;32m----> 4\u001b[0m \u001b[38;5;28mprint\u001b[39m(df_from_array[\u001b[38;5;124m'\u001b[39m\u001b[38;5;124mA\u001b[39m\u001b[38;5;124m'\u001b[39m \u001b[38;5;241m*\u001b[39m \u001b[38;5;241m2\u001b[39m])\n\u001b[0;32m      6\u001b[0m \u001b[38;5;66;03m#DataFrame with columns 'A' and 'B' incremented by 12\u001b[39;00m\n\u001b[0;32m      8\u001b[0m \u001b[38;5;28mprint\u001b[39m(df_from_array[[\u001b[38;5;124m'\u001b[39m\u001b[38;5;124mA\u001b[39m\u001b[38;5;124m'\u001b[39m \u001b[38;5;241m+\u001b[39m \u001b[38;5;124m'\u001b[39m\u001b[38;5;124mB\u001b[39m\u001b[38;5;124m'\u001b[39m]] \u001b[38;5;241m+\u001b[39m \u001b[38;5;241m12\u001b[39m)\n",
      "File \u001b[1;32mD:\\Anaconda\\Lib\\site-packages\\pandas\\core\\frame.py:3893\u001b[0m, in \u001b[0;36mDataFrame.__getitem__\u001b[1;34m(self, key)\u001b[0m\n\u001b[0;32m   3891\u001b[0m \u001b[38;5;28;01mif\u001b[39;00m \u001b[38;5;28mself\u001b[39m\u001b[38;5;241m.\u001b[39mcolumns\u001b[38;5;241m.\u001b[39mnlevels \u001b[38;5;241m>\u001b[39m \u001b[38;5;241m1\u001b[39m:\n\u001b[0;32m   3892\u001b[0m     \u001b[38;5;28;01mreturn\u001b[39;00m \u001b[38;5;28mself\u001b[39m\u001b[38;5;241m.\u001b[39m_getitem_multilevel(key)\n\u001b[1;32m-> 3893\u001b[0m indexer \u001b[38;5;241m=\u001b[39m \u001b[38;5;28mself\u001b[39m\u001b[38;5;241m.\u001b[39mcolumns\u001b[38;5;241m.\u001b[39mget_loc(key)\n\u001b[0;32m   3894\u001b[0m \u001b[38;5;28;01mif\u001b[39;00m is_integer(indexer):\n\u001b[0;32m   3895\u001b[0m     indexer \u001b[38;5;241m=\u001b[39m [indexer]\n",
      "File \u001b[1;32mD:\\Anaconda\\Lib\\site-packages\\pandas\\core\\indexes\\base.py:3798\u001b[0m, in \u001b[0;36mIndex.get_loc\u001b[1;34m(self, key)\u001b[0m\n\u001b[0;32m   3793\u001b[0m     \u001b[38;5;28;01mif\u001b[39;00m \u001b[38;5;28misinstance\u001b[39m(casted_key, \u001b[38;5;28mslice\u001b[39m) \u001b[38;5;129;01mor\u001b[39;00m (\n\u001b[0;32m   3794\u001b[0m         \u001b[38;5;28misinstance\u001b[39m(casted_key, abc\u001b[38;5;241m.\u001b[39mIterable)\n\u001b[0;32m   3795\u001b[0m         \u001b[38;5;129;01mand\u001b[39;00m \u001b[38;5;28many\u001b[39m(\u001b[38;5;28misinstance\u001b[39m(x, \u001b[38;5;28mslice\u001b[39m) \u001b[38;5;28;01mfor\u001b[39;00m x \u001b[38;5;129;01min\u001b[39;00m casted_key)\n\u001b[0;32m   3796\u001b[0m     ):\n\u001b[0;32m   3797\u001b[0m         \u001b[38;5;28;01mraise\u001b[39;00m InvalidIndexError(key)\n\u001b[1;32m-> 3798\u001b[0m     \u001b[38;5;28;01mraise\u001b[39;00m \u001b[38;5;167;01mKeyError\u001b[39;00m(key) \u001b[38;5;28;01mfrom\u001b[39;00m \u001b[38;5;21;01merr\u001b[39;00m\n\u001b[0;32m   3799\u001b[0m \u001b[38;5;28;01mexcept\u001b[39;00m \u001b[38;5;167;01mTypeError\u001b[39;00m:\n\u001b[0;32m   3800\u001b[0m     \u001b[38;5;66;03m# If we have a listlike key, _check_indexing_error will raise\u001b[39;00m\n\u001b[0;32m   3801\u001b[0m     \u001b[38;5;66;03m#  InvalidIndexError. Otherwise we fall through and re-raise\u001b[39;00m\n\u001b[0;32m   3802\u001b[0m     \u001b[38;5;66;03m#  the TypeError.\u001b[39;00m\n\u001b[0;32m   3803\u001b[0m     \u001b[38;5;28mself\u001b[39m\u001b[38;5;241m.\u001b[39m_check_indexing_error(key)\n",
      "\u001b[1;31mKeyError\u001b[0m: 'AA'"
     ]
    }
   ],
   "source": [
    "#Performing vectorized operations on DataFrame\n",
    "#Series with values in column 'A' multiplied by 2\n",
    "\n",
    "print(df_from_array['A' * 2])\n",
    "\n",
    "#DataFrame with columns 'A' and 'B' incremented by 12\n",
    "\n",
    "print(df_from_array[['A' + 'B']] + 12)"
   ]
  },
  {
   "cell_type": "code",
   "execution_count": 23,
   "id": "f3cdac91-57f0-4369-a0a1-f8299c72a6c9",
   "metadata": {},
   "outputs": [
    {
     "name": "stdout",
     "output_type": "stream",
     "text": [
      "    A    B    C\n",
      "0   1   10   20\n",
      "1  20   30   40\n",
      "2  50   50   70\n",
      "3  90  100  200\n"
     ]
    }
   ],
   "source": [
    "#Create a DataFrame from a NumPy array\n",
    "data_array = np.array([\n",
    "    [1, 10, 20],\n",
    "    [20, 30, 40],\n",
    "    [50, 50, 70],\n",
    "    [90, 100, 200]\n",
    "])\n",
    "df_from_array = pd.DataFrame(data_array, columns = ['A', 'B', 'C'])\n",
    "print(df_from_array)"
   ]
  },
  {
   "cell_type": "code",
   "execution_count": 24,
   "id": "94936329-401a-4555-a428-c6cfe5efb181",
   "metadata": {},
   "outputs": [
    {
     "ename": "KeyError",
     "evalue": "'AA'",
     "output_type": "error",
     "traceback": [
      "\u001b[1;31m---------------------------------------------------------------------------\u001b[0m",
      "\u001b[1;31mKeyError\u001b[0m                                  Traceback (most recent call last)",
      "File \u001b[1;32mD:\\Anaconda\\Lib\\site-packages\\pandas\\core\\indexes\\base.py:3791\u001b[0m, in \u001b[0;36mIndex.get_loc\u001b[1;34m(self, key)\u001b[0m\n\u001b[0;32m   3790\u001b[0m \u001b[38;5;28;01mtry\u001b[39;00m:\n\u001b[1;32m-> 3791\u001b[0m     \u001b[38;5;28;01mreturn\u001b[39;00m \u001b[38;5;28mself\u001b[39m\u001b[38;5;241m.\u001b[39m_engine\u001b[38;5;241m.\u001b[39mget_loc(casted_key)\n\u001b[0;32m   3792\u001b[0m \u001b[38;5;28;01mexcept\u001b[39;00m \u001b[38;5;167;01mKeyError\u001b[39;00m \u001b[38;5;28;01mas\u001b[39;00m err:\n",
      "File \u001b[1;32mindex.pyx:152\u001b[0m, in \u001b[0;36mpandas._libs.index.IndexEngine.get_loc\u001b[1;34m()\u001b[0m\n",
      "File \u001b[1;32mindex.pyx:181\u001b[0m, in \u001b[0;36mpandas._libs.index.IndexEngine.get_loc\u001b[1;34m()\u001b[0m\n",
      "File \u001b[1;32mpandas\\_libs\\hashtable_class_helper.pxi:7080\u001b[0m, in \u001b[0;36mpandas._libs.hashtable.PyObjectHashTable.get_item\u001b[1;34m()\u001b[0m\n",
      "File \u001b[1;32mpandas\\_libs\\hashtable_class_helper.pxi:7088\u001b[0m, in \u001b[0;36mpandas._libs.hashtable.PyObjectHashTable.get_item\u001b[1;34m()\u001b[0m\n",
      "\u001b[1;31mKeyError\u001b[0m: 'AA'",
      "\nThe above exception was the direct cause of the following exception:\n",
      "\u001b[1;31mKeyError\u001b[0m                                  Traceback (most recent call last)",
      "Cell \u001b[1;32mIn[24], line 4\u001b[0m\n\u001b[0;32m      1\u001b[0m \u001b[38;5;66;03m#Performing vectorized operations on DataFrame\u001b[39;00m\n\u001b[0;32m      2\u001b[0m \u001b[38;5;66;03m#Series with values in column 'A' multiplied by 2\u001b[39;00m\n\u001b[1;32m----> 4\u001b[0m \u001b[38;5;28mprint\u001b[39m(df_from_array[\u001b[38;5;124m'\u001b[39m\u001b[38;5;124mA\u001b[39m\u001b[38;5;124m'\u001b[39m \u001b[38;5;241m*\u001b[39m \u001b[38;5;241m2\u001b[39m])\n\u001b[0;32m      6\u001b[0m \u001b[38;5;66;03m#DataFrame with columns 'A' and 'B' incremented by 12\u001b[39;00m\n\u001b[0;32m      8\u001b[0m \u001b[38;5;28mprint\u001b[39m(df_from_array[[\u001b[38;5;124m'\u001b[39m\u001b[38;5;124mA\u001b[39m\u001b[38;5;124m'\u001b[39m \u001b[38;5;241m+\u001b[39m \u001b[38;5;124m'\u001b[39m\u001b[38;5;124mB\u001b[39m\u001b[38;5;124m'\u001b[39m]] \u001b[38;5;241m+\u001b[39m \u001b[38;5;241m12\u001b[39m)\n",
      "File \u001b[1;32mD:\\Anaconda\\Lib\\site-packages\\pandas\\core\\frame.py:3893\u001b[0m, in \u001b[0;36mDataFrame.__getitem__\u001b[1;34m(self, key)\u001b[0m\n\u001b[0;32m   3891\u001b[0m \u001b[38;5;28;01mif\u001b[39;00m \u001b[38;5;28mself\u001b[39m\u001b[38;5;241m.\u001b[39mcolumns\u001b[38;5;241m.\u001b[39mnlevels \u001b[38;5;241m>\u001b[39m \u001b[38;5;241m1\u001b[39m:\n\u001b[0;32m   3892\u001b[0m     \u001b[38;5;28;01mreturn\u001b[39;00m \u001b[38;5;28mself\u001b[39m\u001b[38;5;241m.\u001b[39m_getitem_multilevel(key)\n\u001b[1;32m-> 3893\u001b[0m indexer \u001b[38;5;241m=\u001b[39m \u001b[38;5;28mself\u001b[39m\u001b[38;5;241m.\u001b[39mcolumns\u001b[38;5;241m.\u001b[39mget_loc(key)\n\u001b[0;32m   3894\u001b[0m \u001b[38;5;28;01mif\u001b[39;00m is_integer(indexer):\n\u001b[0;32m   3895\u001b[0m     indexer \u001b[38;5;241m=\u001b[39m [indexer]\n",
      "File \u001b[1;32mD:\\Anaconda\\Lib\\site-packages\\pandas\\core\\indexes\\base.py:3798\u001b[0m, in \u001b[0;36mIndex.get_loc\u001b[1;34m(self, key)\u001b[0m\n\u001b[0;32m   3793\u001b[0m     \u001b[38;5;28;01mif\u001b[39;00m \u001b[38;5;28misinstance\u001b[39m(casted_key, \u001b[38;5;28mslice\u001b[39m) \u001b[38;5;129;01mor\u001b[39;00m (\n\u001b[0;32m   3794\u001b[0m         \u001b[38;5;28misinstance\u001b[39m(casted_key, abc\u001b[38;5;241m.\u001b[39mIterable)\n\u001b[0;32m   3795\u001b[0m         \u001b[38;5;129;01mand\u001b[39;00m \u001b[38;5;28many\u001b[39m(\u001b[38;5;28misinstance\u001b[39m(x, \u001b[38;5;28mslice\u001b[39m) \u001b[38;5;28;01mfor\u001b[39;00m x \u001b[38;5;129;01min\u001b[39;00m casted_key)\n\u001b[0;32m   3796\u001b[0m     ):\n\u001b[0;32m   3797\u001b[0m         \u001b[38;5;28;01mraise\u001b[39;00m InvalidIndexError(key)\n\u001b[1;32m-> 3798\u001b[0m     \u001b[38;5;28;01mraise\u001b[39;00m \u001b[38;5;167;01mKeyError\u001b[39;00m(key) \u001b[38;5;28;01mfrom\u001b[39;00m \u001b[38;5;21;01merr\u001b[39;00m\n\u001b[0;32m   3799\u001b[0m \u001b[38;5;28;01mexcept\u001b[39;00m \u001b[38;5;167;01mTypeError\u001b[39;00m:\n\u001b[0;32m   3800\u001b[0m     \u001b[38;5;66;03m# If we have a listlike key, _check_indexing_error will raise\u001b[39;00m\n\u001b[0;32m   3801\u001b[0m     \u001b[38;5;66;03m#  InvalidIndexError. Otherwise we fall through and re-raise\u001b[39;00m\n\u001b[0;32m   3802\u001b[0m     \u001b[38;5;66;03m#  the TypeError.\u001b[39;00m\n\u001b[0;32m   3803\u001b[0m     \u001b[38;5;28mself\u001b[39m\u001b[38;5;241m.\u001b[39m_check_indexing_error(key)\n",
      "\u001b[1;31mKeyError\u001b[0m: 'AA'"
     ]
    }
   ],
   "source": [
    "#Performing vectorized operations on DataFrame\n",
    "#Series with values in column 'A' multiplied by 2\n",
    "\n",
    "print(df_from_array['A' * 2])\n",
    "\n",
    "#DataFrame with columns 'A' and 'B' incremented by 12\n",
    "\n",
    "print(df_from_array[['A' + 'B']] + 12)"
   ]
  },
  {
   "cell_type": "code",
   "execution_count": 25,
   "id": "e4e4e79a-f4c8-455d-bda4-61dc5abd91fd",
   "metadata": {},
   "outputs": [
    {
     "name": "stdout",
     "output_type": "stream",
     "text": [
      "Creating a DataFrame with missing data\n",
      "      A     B     C\n",
      "0  10.0  24.0   NaN\n",
      "1  20.0   NaN  21.0\n",
      "2   NaN  35.0  18.0\n",
      "3  40.0  32.0  25.0\n"
     ]
    }
   ],
   "source": [
    "print(\"Creating a DataFrame with missing data\")\n",
    "df_with_nan = pd.DataFrame({\n",
    "    'A' : [10, 20, None, 40],\n",
    "    'B' : [24, None, 35, 32],\n",
    "    'C' : [None, 21, 18, 25]\n",
    "})\n",
    "\n",
    "print(df_with_nan)"
   ]
  },
  {
   "cell_type": "code",
   "execution_count": 29,
   "id": "7a40a250-4395-4eb4-b6ef-bc6f848bb8fe",
   "metadata": {},
   "outputs": [
    {
     "name": "stdout",
     "output_type": "stream",
     "text": [
      "Checking for missing data\n",
      "       A      B      C\n",
      "0  False  False   True\n",
      "1  False   True  False\n",
      "2   True  False  False\n",
      "3  False  False  False\n",
      "\n",
      "Removing the missing data\n",
      "      A     B     C\n",
      "3  40.0  32.0  25.0\n",
      "\n",
      "Filling the missing values\n",
      "      A     B     C\n",
      "0  10.0  24.0   0.0\n",
      "1  20.0   0.0  21.0\n",
      "2   0.0  35.0  18.0\n",
      "3  40.0  32.0  25.0\n"
     ]
    }
   ],
   "source": [
    "print(\"Checking for missing data\")\n",
    "print(df_with_nan.isnull())\n",
    "print()\n",
    "print(\"Removing the missing data\")\n",
    "print(df_with_nan.dropna())   #entire series empty xa vane maatra 'dropna' garne cuz empty vaako data sabai delete gardinxa\n",
    "\n",
    "print()\n",
    "print(\"Filling the missing values\")\n",
    "print(df_with_nan.fillna(0))"
   ]
  },
  {
   "cell_type": "code",
   "execution_count": 32,
   "id": "ff83cd14-89f8-4a84-9541-5196b40ac024",
   "metadata": {},
   "outputs": [
    {
     "name": "stdout",
     "output_type": "stream",
     "text": [
      "         Data Product  Unit_Sold  Revenue\n",
      "0  2024-01-01   Apple       10.0   2000.0\n",
      "1  2024-01-02  Banana        NaN    500.0\n",
      "2  2024-01-03   Apple       15.0      NaN\n",
      "3  2024-01-04  Banana       20.0    400.0\n"
     ]
    }
   ],
   "source": [
    "#Creating a DataFrame with missing values (Sales Data)\n",
    "sales_data = {\n",
    "    'Data':['2024-01-01', '2024-01-02', '2024-01-03', '2024-01-04'],\n",
    "    'Product':['Apple', 'Banana', 'Apple', 'Banana'],\n",
    "    'Unit_Sold':[10, None, 15, 20],\n",
    "    'Revenue':[2000, 500, None, 400]\n",
    "}\n",
    "\n",
    "df_sales = pd.DataFrame(sales_data)\n",
    "print(df_sales)"
   ]
  },
  {
   "cell_type": "code",
   "execution_count": 36,
   "id": "3c8dd021-23c3-40b5-8ff1-7dd3532e0ae2",
   "metadata": {},
   "outputs": [
    {
     "name": "stdout",
     "output_type": "stream",
     "text": [
      "Checking for missing data\n",
      "    Data  Product  Unit_Sold  Revenue\n",
      "0  False    False      False    False\n",
      "1  False    False       True    False\n",
      "2  False    False      False     True\n",
      "3  False    False      False    False\n",
      "\n",
      "Summarize the missing data\n",
      "Data         0\n",
      "Product      0\n",
      "Unit_Sold    1\n",
      "Revenue      1\n",
      "dtype: int64\n",
      "\n",
      "Filling the missing data\n",
      "         Data Product  Unit_Sold  Revenue\n",
      "0  2024-01-01   Apple       10.0   2000.0\n",
      "1  2024-01-02  Banana        0.0    500.0\n",
      "2  2024-01-03   Apple       15.0      0.0\n",
      "3  2024-01-04  Banana       20.0    400.0\n"
     ]
    }
   ],
   "source": [
    "#Checking for missing data\n",
    "print(\"Checking for missing data\")\n",
    "\n",
    "print(df_sales.isnull())\n",
    "\n",
    "#Summarize the missing data\n",
    "print()\n",
    "print(\"Summarize the missing data\")\n",
    "print(df_sales.isnull().sum())\n",
    "\n",
    "#Filling the missing data\n",
    "print()\n",
    "print(\"Filling the missing data\")\n",
    "print(df_sales.fillna(0))\n",
    "\n"
   ]
  },
  {
   "cell_type": "code",
   "execution_count": 43,
   "id": "7e73266c-022e-42ad-b37d-971b5ec563b4",
   "metadata": {},
   "outputs": [
    {
     "name": "stdout",
     "output_type": "stream",
     "text": [
      "Initial Data:\n"
     ]
    },
    {
     "data": {
      "text/html": [
       "<div>\n",
       "<style scoped>\n",
       "    .dataframe tbody tr th:only-of-type {\n",
       "        vertical-align: middle;\n",
       "    }\n",
       "\n",
       "    .dataframe tbody tr th {\n",
       "        vertical-align: top;\n",
       "    }\n",
       "\n",
       "    .dataframe thead th {\n",
       "        text-align: right;\n",
       "    }\n",
       "</style>\n",
       "<table border=\"1\" class=\"dataframe\">\n",
       "  <thead>\n",
       "    <tr style=\"text-align: right;\">\n",
       "      <th></th>\n",
       "      <th>date</th>\n",
       "      <th>inside_sales</th>\n",
       "      <th>outside_sales</th>\n",
       "      <th>inside_covers</th>\n",
       "      <th>outside_covers</th>\n",
       "      <th>reserved_covers</th>\n",
       "      <th>walkin_covers</th>\n",
       "      <th>waitlist_covers</th>\n",
       "      <th>no_show_covers</th>\n",
       "      <th>no_show_parties</th>\n",
       "      <th>apparent_temperature</th>\n",
       "      <th>humidity</th>\n",
       "      <th>precip_intensity_max</th>\n",
       "      <th>precip_max_time</th>\n",
       "      <th>precip_prob</th>\n",
       "      <th>precip_type</th>\n",
       "      <th>pressure</th>\n",
       "      <th>summary</th>\n",
       "      <th>temperature</th>\n",
       "    </tr>\n",
       "  </thead>\n",
       "  <tbody>\n",
       "    <tr>\n",
       "      <th>0</th>\n",
       "      <td>2017-01-02</td>\n",
       "      <td>13159.84</td>\n",
       "      <td>NaN</td>\n",
       "      <td>174</td>\n",
       "      <td>0</td>\n",
       "      <td>106</td>\n",
       "      <td>26</td>\n",
       "      <td>42</td>\n",
       "      <td>17</td>\n",
       "      <td>6</td>\n",
       "      <td>35.58</td>\n",
       "      <td>0.92</td>\n",
       "      <td>0.0242</td>\n",
       "      <td>15:00:00</td>\n",
       "      <td>0.79</td>\n",
       "      <td>rain</td>\n",
       "      <td>1027.98</td>\n",
       "      <td>rain</td>\n",
       "      <td>39.06</td>\n",
       "    </tr>\n",
       "    <tr>\n",
       "      <th>1</th>\n",
       "      <td>2017-01-03</td>\n",
       "      <td>12442.11</td>\n",
       "      <td>NaN</td>\n",
       "      <td>181</td>\n",
       "      <td>0</td>\n",
       "      <td>119</td>\n",
       "      <td>31</td>\n",
       "      <td>31</td>\n",
       "      <td>14</td>\n",
       "      <td>4</td>\n",
       "      <td>41.50</td>\n",
       "      <td>0.94</td>\n",
       "      <td>0.0913</td>\n",
       "      <td>17:00:00</td>\n",
       "      <td>0.77</td>\n",
       "      <td>rain</td>\n",
       "      <td>1000.08</td>\n",
       "      <td>rain</td>\n",
       "      <td>43.19</td>\n",
       "    </tr>\n",
       "    <tr>\n",
       "      <th>2</th>\n",
       "      <td>2017-01-04</td>\n",
       "      <td>12927.64</td>\n",
       "      <td>NaN</td>\n",
       "      <td>174</td>\n",
       "      <td>0</td>\n",
       "      <td>131</td>\n",
       "      <td>17</td>\n",
       "      <td>26</td>\n",
       "      <td>5</td>\n",
       "      <td>2</td>\n",
       "      <td>36.81</td>\n",
       "      <td>0.40</td>\n",
       "      <td>0.0176</td>\n",
       "      <td>00:00:00</td>\n",
       "      <td>0.00</td>\n",
       "      <td>rain</td>\n",
       "      <td>1002.55</td>\n",
       "      <td>clear-night</td>\n",
       "      <td>42.29</td>\n",
       "    </tr>\n",
       "    <tr>\n",
       "      <th>3</th>\n",
       "      <td>2017-01-05</td>\n",
       "      <td>14457.79</td>\n",
       "      <td>NaN</td>\n",
       "      <td>191</td>\n",
       "      <td>0</td>\n",
       "      <td>138</td>\n",
       "      <td>25</td>\n",
       "      <td>28</td>\n",
       "      <td>4</td>\n",
       "      <td>2</td>\n",
       "      <td>27.11</td>\n",
       "      <td>0.48</td>\n",
       "      <td>0.0000</td>\n",
       "      <td>05:01:00</td>\n",
       "      <td>0.00</td>\n",
       "      <td>none</td>\n",
       "      <td>1014.61</td>\n",
       "      <td>cloudy</td>\n",
       "      <td>31.36</td>\n",
       "    </tr>\n",
       "    <tr>\n",
       "      <th>4</th>\n",
       "      <td>2017-01-06</td>\n",
       "      <td>15331.97</td>\n",
       "      <td>NaN</td>\n",
       "      <td>200</td>\n",
       "      <td>0</td>\n",
       "      <td>130</td>\n",
       "      <td>16</td>\n",
       "      <td>54</td>\n",
       "      <td>6</td>\n",
       "      <td>3</td>\n",
       "      <td>24.74</td>\n",
       "      <td>0.48</td>\n",
       "      <td>0.0019</td>\n",
       "      <td>12:00:00</td>\n",
       "      <td>0.00</td>\n",
       "      <td>snow</td>\n",
       "      <td>1022.80</td>\n",
       "      <td>partly-cloudy-night</td>\n",
       "      <td>29.42</td>\n",
       "    </tr>\n",
       "  </tbody>\n",
       "</table>\n",
       "</div>"
      ],
      "text/plain": [
       "         date  inside_sales  outside_sales  inside_covers  outside_covers  \\\n",
       "0  2017-01-02      13159.84            NaN            174               0   \n",
       "1  2017-01-03      12442.11            NaN            181               0   \n",
       "2  2017-01-04      12927.64            NaN            174               0   \n",
       "3  2017-01-05      14457.79            NaN            191               0   \n",
       "4  2017-01-06      15331.97            NaN            200               0   \n",
       "\n",
       "   reserved_covers  walkin_covers  waitlist_covers  no_show_covers  \\\n",
       "0              106             26               42              17   \n",
       "1              119             31               31              14   \n",
       "2              131             17               26               5   \n",
       "3              138             25               28               4   \n",
       "4              130             16               54               6   \n",
       "\n",
       "   no_show_parties  apparent_temperature  humidity  precip_intensity_max  \\\n",
       "0                6                 35.58      0.92                0.0242   \n",
       "1                4                 41.50      0.94                0.0913   \n",
       "2                2                 36.81      0.40                0.0176   \n",
       "3                2                 27.11      0.48                0.0000   \n",
       "4                3                 24.74      0.48                0.0019   \n",
       "\n",
       "  precip_max_time  precip_prob precip_type  pressure              summary  \\\n",
       "0        15:00:00         0.79        rain   1027.98                 rain   \n",
       "1        17:00:00         0.77        rain   1000.08                 rain   \n",
       "2        00:00:00         0.00        rain   1002.55          clear-night   \n",
       "3        05:01:00         0.00        none   1014.61               cloudy   \n",
       "4        12:00:00         0.00        snow   1022.80  partly-cloudy-night   \n",
       "\n",
       "   temperature  \n",
       "0        39.06  \n",
       "1        43.19  \n",
       "2        42.29  \n",
       "3        31.36  \n",
       "4        29.42  "
      ]
     },
     "execution_count": 43,
     "metadata": {},
     "output_type": "execute_result"
    }
   ],
   "source": [
    "#Load the datasets\n",
    "\n",
    "df= pd.read_csv('CSV_for_EDA.csv')\n",
    "\n",
    "\n",
    "\n",
    "#Display the first few rows of datasets\n",
    "\n",
    "print(\"Initial Data:\")\n",
    "df.head()"
   ]
  },
  {
   "cell_type": "code",
   "execution_count": 42,
   "id": "326fe684-d0cb-46bc-aa15-a3e9936a6666",
   "metadata": {},
   "outputs": [
    {
     "name": "stdout",
     "output_type": "stream",
     "text": [
      "Last Data:\n"
     ]
    },
    {
     "data": {
      "text/html": [
       "<div>\n",
       "<style scoped>\n",
       "    .dataframe tbody tr th:only-of-type {\n",
       "        vertical-align: middle;\n",
       "    }\n",
       "\n",
       "    .dataframe tbody tr th {\n",
       "        vertical-align: top;\n",
       "    }\n",
       "\n",
       "    .dataframe thead th {\n",
       "        text-align: right;\n",
       "    }\n",
       "</style>\n",
       "<table border=\"1\" class=\"dataframe\">\n",
       "  <thead>\n",
       "    <tr style=\"text-align: right;\">\n",
       "      <th></th>\n",
       "      <th>date</th>\n",
       "      <th>inside_sales</th>\n",
       "      <th>outside_sales</th>\n",
       "      <th>inside_covers</th>\n",
       "      <th>outside_covers</th>\n",
       "      <th>reserved_covers</th>\n",
       "      <th>walkin_covers</th>\n",
       "      <th>waitlist_covers</th>\n",
       "      <th>no_show_covers</th>\n",
       "      <th>no_show_parties</th>\n",
       "      <th>apparent_temperature</th>\n",
       "      <th>humidity</th>\n",
       "      <th>precip_intensity_max</th>\n",
       "      <th>precip_max_time</th>\n",
       "      <th>precip_prob</th>\n",
       "      <th>precip_type</th>\n",
       "      <th>pressure</th>\n",
       "      <th>summary</th>\n",
       "      <th>temperature</th>\n",
       "    </tr>\n",
       "  </thead>\n",
       "  <tbody>\n",
       "    <tr>\n",
       "      <th>893</th>\n",
       "      <td>2019-06-26</td>\n",
       "      <td>12605.00</td>\n",
       "      <td>4487.50</td>\n",
       "      <td>179</td>\n",
       "      <td>67</td>\n",
       "      <td>149</td>\n",
       "      <td>0</td>\n",
       "      <td>97</td>\n",
       "      <td>6</td>\n",
       "      <td>2</td>\n",
       "      <td>84.43</td>\n",
       "      <td>0.43</td>\n",
       "      <td>0.0005</td>\n",
       "      <td>00:00:00</td>\n",
       "      <td>0.00</td>\n",
       "      <td>rain</td>\n",
       "      <td>1015.74</td>\n",
       "      <td>partly-cloudy-day</td>\n",
       "      <td>84.43</td>\n",
       "    </tr>\n",
       "    <tr>\n",
       "      <th>894</th>\n",
       "      <td>2019-06-27</td>\n",
       "      <td>13675.62</td>\n",
       "      <td>5443.00</td>\n",
       "      <td>170</td>\n",
       "      <td>80</td>\n",
       "      <td>143</td>\n",
       "      <td>0</td>\n",
       "      <td>107</td>\n",
       "      <td>5</td>\n",
       "      <td>2</td>\n",
       "      <td>86.09</td>\n",
       "      <td>0.34</td>\n",
       "      <td>0.0001</td>\n",
       "      <td>02:00:00</td>\n",
       "      <td>0.00</td>\n",
       "      <td>none</td>\n",
       "      <td>1019.05</td>\n",
       "      <td>partly-cloudy-day</td>\n",
       "      <td>86.09</td>\n",
       "    </tr>\n",
       "    <tr>\n",
       "      <th>895</th>\n",
       "      <td>2019-06-28</td>\n",
       "      <td>14171.25</td>\n",
       "      <td>6180.50</td>\n",
       "      <td>177</td>\n",
       "      <td>74</td>\n",
       "      <td>145</td>\n",
       "      <td>0</td>\n",
       "      <td>106</td>\n",
       "      <td>12</td>\n",
       "      <td>4</td>\n",
       "      <td>83.09</td>\n",
       "      <td>0.43</td>\n",
       "      <td>0.0000</td>\n",
       "      <td>05:01:00</td>\n",
       "      <td>0.00</td>\n",
       "      <td>none</td>\n",
       "      <td>1019.41</td>\n",
       "      <td>partly-cloudy-day</td>\n",
       "      <td>83.09</td>\n",
       "    </tr>\n",
       "    <tr>\n",
       "      <th>896</th>\n",
       "      <td>2019-06-29</td>\n",
       "      <td>14695.50</td>\n",
       "      <td>5369.75</td>\n",
       "      <td>189</td>\n",
       "      <td>72</td>\n",
       "      <td>135</td>\n",
       "      <td>3</td>\n",
       "      <td>123</td>\n",
       "      <td>10</td>\n",
       "      <td>5</td>\n",
       "      <td>77.17</td>\n",
       "      <td>0.75</td>\n",
       "      <td>0.0571</td>\n",
       "      <td>18:00:00</td>\n",
       "      <td>0.01</td>\n",
       "      <td>rain</td>\n",
       "      <td>1011.84</td>\n",
       "      <td>partly-cloudy-day</td>\n",
       "      <td>76.33</td>\n",
       "    </tr>\n",
       "    <tr>\n",
       "      <th>897</th>\n",
       "      <td>2019-06-30</td>\n",
       "      <td>14073.24</td>\n",
       "      <td>6925.50</td>\n",
       "      <td>221</td>\n",
       "      <td>75</td>\n",
       "      <td>156</td>\n",
       "      <td>2</td>\n",
       "      <td>138</td>\n",
       "      <td>4</td>\n",
       "      <td>1</td>\n",
       "      <td>79.33</td>\n",
       "      <td>0.39</td>\n",
       "      <td>0.0033</td>\n",
       "      <td>16:00:00</td>\n",
       "      <td>0.00</td>\n",
       "      <td>rain</td>\n",
       "      <td>1008.91</td>\n",
       "      <td>partly-cloudy-day</td>\n",
       "      <td>79.33</td>\n",
       "    </tr>\n",
       "  </tbody>\n",
       "</table>\n",
       "</div>"
      ],
      "text/plain": [
       "           date  inside_sales  outside_sales  inside_covers  outside_covers  \\\n",
       "893  2019-06-26      12605.00        4487.50            179              67   \n",
       "894  2019-06-27      13675.62        5443.00            170              80   \n",
       "895  2019-06-28      14171.25        6180.50            177              74   \n",
       "896  2019-06-29      14695.50        5369.75            189              72   \n",
       "897  2019-06-30      14073.24        6925.50            221              75   \n",
       "\n",
       "     reserved_covers  walkin_covers  waitlist_covers  no_show_covers  \\\n",
       "893              149              0               97               6   \n",
       "894              143              0              107               5   \n",
       "895              145              0              106              12   \n",
       "896              135              3              123              10   \n",
       "897              156              2              138               4   \n",
       "\n",
       "     no_show_parties  apparent_temperature  humidity  precip_intensity_max  \\\n",
       "893                2                 84.43      0.43                0.0005   \n",
       "894                2                 86.09      0.34                0.0001   \n",
       "895                4                 83.09      0.43                0.0000   \n",
       "896                5                 77.17      0.75                0.0571   \n",
       "897                1                 79.33      0.39                0.0033   \n",
       "\n",
       "    precip_max_time  precip_prob precip_type  pressure            summary  \\\n",
       "893        00:00:00         0.00        rain   1015.74  partly-cloudy-day   \n",
       "894        02:00:00         0.00        none   1019.05  partly-cloudy-day   \n",
       "895        05:01:00         0.00        none   1019.41  partly-cloudy-day   \n",
       "896        18:00:00         0.01        rain   1011.84  partly-cloudy-day   \n",
       "897        16:00:00         0.00        rain   1008.91  partly-cloudy-day   \n",
       "\n",
       "     temperature  \n",
       "893        84.43  \n",
       "894        86.09  \n",
       "895        83.09  \n",
       "896        76.33  \n",
       "897        79.33  "
      ]
     },
     "execution_count": 42,
     "metadata": {},
     "output_type": "execute_result"
    }
   ],
   "source": [
    "#Display the last few rows of datasets\n",
    "print(\"Last Data:\")\n",
    "df.tail()"
   ]
  },
  {
   "cell_type": "code",
   "execution_count": 45,
   "id": "8b877a77-c5e7-44e0-b90a-0eadcd09fabc",
   "metadata": {},
   "outputs": [
    {
     "name": "stdout",
     "output_type": "stream",
     "text": [
      "Checking for missing data\n",
      "      date  inside_sales  outside_sales  inside_covers  outside_covers  \\\n",
      "0    False         False           True          False           False   \n",
      "1    False         False           True          False           False   \n",
      "2    False         False           True          False           False   \n",
      "3    False         False           True          False           False   \n",
      "4    False         False           True          False           False   \n",
      "..     ...           ...            ...            ...             ...   \n",
      "893  False         False          False          False           False   \n",
      "894  False         False          False          False           False   \n",
      "895  False         False          False          False           False   \n",
      "896  False         False          False          False           False   \n",
      "897  False         False          False          False           False   \n",
      "\n",
      "     reserved_covers  walkin_covers  waitlist_covers  no_show_covers  \\\n",
      "0              False          False            False           False   \n",
      "1              False          False            False           False   \n",
      "2              False          False            False           False   \n",
      "3              False          False            False           False   \n",
      "4              False          False            False           False   \n",
      "..               ...            ...              ...             ...   \n",
      "893            False          False            False           False   \n",
      "894            False          False            False           False   \n",
      "895            False          False            False           False   \n",
      "896            False          False            False           False   \n",
      "897            False          False            False           False   \n",
      "\n",
      "     no_show_parties  apparent_temperature  humidity  precip_intensity_max  \\\n",
      "0              False                 False     False                 False   \n",
      "1              False                 False     False                 False   \n",
      "2              False                 False     False                 False   \n",
      "3              False                 False     False                 False   \n",
      "4              False                 False     False                 False   \n",
      "..               ...                   ...       ...                   ...   \n",
      "893            False                 False     False                 False   \n",
      "894            False                 False     False                 False   \n",
      "895            False                 False     False                 False   \n",
      "896            False                 False     False                 False   \n",
      "897            False                 False     False                 False   \n",
      "\n",
      "     precip_max_time  precip_prob  precip_type  pressure  summary  temperature  \n",
      "0              False        False        False     False    False        False  \n",
      "1              False        False        False     False    False        False  \n",
      "2              False        False        False     False    False        False  \n",
      "3              False        False        False     False    False        False  \n",
      "4              False        False        False     False    False        False  \n",
      "..               ...          ...          ...       ...      ...          ...  \n",
      "893            False        False        False     False    False        False  \n",
      "894            False        False        False     False    False        False  \n",
      "895            False        False        False     False    False        False  \n",
      "896            False        False        False     False    False        False  \n",
      "897            False        False        False     False    False        False  \n",
      "\n",
      "[898 rows x 19 columns]\n",
      "\n",
      "Summarize the missing data\n",
      "date                      0\n",
      "inside_sales              0\n",
      "outside_sales           475\n",
      "inside_covers             0\n",
      "outside_covers            0\n",
      "reserved_covers           0\n",
      "walkin_covers             0\n",
      "waitlist_covers           0\n",
      "no_show_covers            0\n",
      "no_show_parties           0\n",
      "apparent_temperature      0\n",
      "humidity                  0\n",
      "precip_intensity_max      0\n",
      "precip_max_time           0\n",
      "precip_prob               0\n",
      "precip_type               0\n",
      "pressure                  0\n",
      "summary                   0\n",
      "temperature               0\n",
      "dtype: int64\n",
      "\n",
      "Filling the missing data\n",
      "           date  inside_sales  outside_sales  inside_covers  outside_covers  \\\n",
      "0    2017-01-02      13159.84           0.00            174               0   \n",
      "1    2017-01-03      12442.11           0.00            181               0   \n",
      "2    2017-01-04      12927.64           0.00            174               0   \n",
      "3    2017-01-05      14457.79           0.00            191               0   \n",
      "4    2017-01-06      15331.97           0.00            200               0   \n",
      "..          ...           ...            ...            ...             ...   \n",
      "893  2019-06-26      12605.00        4487.50            179              67   \n",
      "894  2019-06-27      13675.62        5443.00            170              80   \n",
      "895  2019-06-28      14171.25        6180.50            177              74   \n",
      "896  2019-06-29      14695.50        5369.75            189              72   \n",
      "897  2019-06-30      14073.24        6925.50            221              75   \n",
      "\n",
      "     reserved_covers  walkin_covers  waitlist_covers  no_show_covers  \\\n",
      "0                106             26               42              17   \n",
      "1                119             31               31              14   \n",
      "2                131             17               26               5   \n",
      "3                138             25               28               4   \n",
      "4                130             16               54               6   \n",
      "..               ...            ...              ...             ...   \n",
      "893              149              0               97               6   \n",
      "894              143              0              107               5   \n",
      "895              145              0              106              12   \n",
      "896              135              3              123              10   \n",
      "897              156              2              138               4   \n",
      "\n",
      "     no_show_parties  apparent_temperature  humidity  precip_intensity_max  \\\n",
      "0                  6                 35.58      0.92                0.0242   \n",
      "1                  4                 41.50      0.94                0.0913   \n",
      "2                  2                 36.81      0.40                0.0176   \n",
      "3                  2                 27.11      0.48                0.0000   \n",
      "4                  3                 24.74      0.48                0.0019   \n",
      "..               ...                   ...       ...                   ...   \n",
      "893                2                 84.43      0.43                0.0005   \n",
      "894                2                 86.09      0.34                0.0001   \n",
      "895                4                 83.09      0.43                0.0000   \n",
      "896                5                 77.17      0.75                0.0571   \n",
      "897                1                 79.33      0.39                0.0033   \n",
      "\n",
      "    precip_max_time  precip_prob precip_type  pressure              summary  \\\n",
      "0          15:00:00         0.79        rain   1027.98                 rain   \n",
      "1          17:00:00         0.77        rain   1000.08                 rain   \n",
      "2          00:00:00         0.00        rain   1002.55          clear-night   \n",
      "3          05:01:00         0.00        none   1014.61               cloudy   \n",
      "4          12:00:00         0.00        snow   1022.80  partly-cloudy-night   \n",
      "..              ...          ...         ...       ...                  ...   \n",
      "893        00:00:00         0.00        rain   1015.74    partly-cloudy-day   \n",
      "894        02:00:00         0.00        none   1019.05    partly-cloudy-day   \n",
      "895        05:01:00         0.00        none   1019.41    partly-cloudy-day   \n",
      "896        18:00:00         0.01        rain   1011.84    partly-cloudy-day   \n",
      "897        16:00:00         0.00        rain   1008.91    partly-cloudy-day   \n",
      "\n",
      "     temperature  \n",
      "0          39.06  \n",
      "1          43.19  \n",
      "2          42.29  \n",
      "3          31.36  \n",
      "4          29.42  \n",
      "..           ...  \n",
      "893        84.43  \n",
      "894        86.09  \n",
      "895        83.09  \n",
      "896        76.33  \n",
      "897        79.33  \n",
      "\n",
      "[898 rows x 19 columns]\n"
     ]
    }
   ],
   "source": [
    "#Checking for missing data from the CSV_for_EDA\n",
    "print(\"Checking for missing data\")\n",
    "\n",
    "print(df.isnull())\n",
    "\n",
    "#Summarize the missing data from the CSV_for_EDA\n",
    "print()\n",
    "print(\"Summarize the missing data\")\n",
    "print(df.isnull().sum())\n",
    "\n",
    "#Filling the missing data from the CSV_for_EDA\n",
    "print()\n",
    "print(\"Filling the missing data\")\n",
    "print(df.fillna(0))"
   ]
  },
  {
   "cell_type": "code",
   "execution_count": null,
   "id": "3d659455-4fec-420e-a03b-c73a2a405ecf",
   "metadata": {},
   "outputs": [],
   "source": [
    "#Handling the missing values\n",
    "#Shapes, index, columns, size, dimensions, etc. from the previous classworks here\n",
    "#Vectorization operation\n"
   ]
  }
 ],
 "metadata": {
  "kernelspec": {
   "display_name": "Python 3 (ipykernel)",
   "language": "python",
   "name": "python3"
  },
  "language_info": {
   "codemirror_mode": {
    "name": "ipython",
    "version": 3
   },
   "file_extension": ".py",
   "mimetype": "text/x-python",
   "name": "python",
   "nbconvert_exporter": "python",
   "pygments_lexer": "ipython3",
   "version": "3.11.7"
  }
 },
 "nbformat": 4,
 "nbformat_minor": 5
}
